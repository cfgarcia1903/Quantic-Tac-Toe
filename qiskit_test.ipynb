{
 "cells": [
  {
   "cell_type": "code",
   "execution_count": 1,
   "id": "24e0ad7b-f71e-4cb3-beab-969cb516c5b9",
   "metadata": {},
   "outputs": [
    {
     "data": {
      "image/png": "[encoded data removed]",
      "text/plain": [
       "<Figure size 287.294x200.667 with 1 Axes>"
      ]
     },
     "execution_count": 1,
     "metadata": {},
     "output_type": "execute_result"
    }
   ],
   "source": [
    "from qiskit import QuantumCircuit\n",
    "from qiskit.quantum_info import SparsePauliOp\n",
    "from qiskit.transpiler.preset_passmanagers import generate_preset_pass_manager\n",
    "from qiskit_ibm_runtime import EstimatorV2 as Estimator\n",
    " \n",
    "# Create a new circuit with two qubits\n",
    "qc = QuantumCircuit(2)\n",
    " \n",
    "# Add a Hadamard gate to qubit 0\n",
    "qc.h(0)\n",
    " \n",
    "# Perform a controlled-X gate on qubit 1, controlled by qubit 0\n",
    "qc.cx(0, 1)\n",
    " \n",
    "# Return a drawing of the circuit using MatPlotLib (\"mpl\"). This is the\n",
    "# last line of the cell, so the drawing appears in the cell output.\n",
    "# Remove the \"mpl\" argument to get a text drawing.\n",
    "qc.draw(\"mpl\")"
   ]
  },
  {
   "cell_type": "code",
   "execution_count": 1,
   "id": "f0e41845-892b-4296-b5ef-5d099db40f58",
   "metadata": {},
   "outputs": [
    {
     "data": {
      "image/png": "[encoded data removed]",
      "text/plain": [
       "<Figure size 269.064x117.056 with 1 Axes>"
      ]
     },
     "execution_count": 1,
     "metadata": {},
     "output_type": "execute_result"
    }
   ],
   "source": [
    "from qiskit import QuantumCircuit\n",
    "\n",
    "# Crear el circuito con 1 qubit\n",
    "qc = QuantumCircuit(1)\n",
    "\n",
    "# Aplicar las puertas necesarias\n",
    "qc.h(0)       # Puerta Hadamard\n",
    "qc.tdg(0)     # Puerta T^\\dagger\n",
    "\n",
    "# Dibujar el circuito\n",
    "qc.draw('mpl')\n"
   ]
  },
  {
   "cell_type": "code",
   "execution_count": 12,
   "id": "696b3ea8-87da-496d-9147-22aa41efd211",
   "metadata": {},
   "outputs": [
    {
     "name": "stdout",
     "output_type": "stream",
     "text": [
      "Estado resultante para la entrada |0>:\n",
      "Statevector([0.70710678+0.j , 0.5       -0.5j],\n",
      "            dims=(2,))\n",
      "\n",
      "Estado resultante para la entrada |1>:\n",
      "Statevector([0.5       -5.00000000e-01j, 0.70710678-1.66533454e-16j],\n",
      "            dims=(2,))\n"
     ]
    }
   ],
   "source": [
    "from qiskit_aer import Aer\n",
    "from qiskit import transpile\n",
    "\n",
    "from qiskit.visualization import plot_bloch_multivector\n",
    "from qiskit.quantum_info import Statevector\n",
    "\n",
    "# Simulador de estado cuántico\n",
    "simulator = Aer.get_backend('statevector_simulator')\n",
    "\n",
    "# Simular el circuito con la entrada |0>\n",
    "new_circuit = transpile(qc,simulator)\n",
    "result_0 = simulator.run(new_circuit).result()\n",
    "state_0 = result_0.get_statevector()\n",
    "\n",
    "# Simular el circuito con la entrada |1>\n",
    "qc_1 = qc.copy()  # Copiar el circuito\n",
    "qc_1.x(0)         # Aplicar la puerta X para preparar |1>\n",
    "new_circuit_1 = transpile(qc_1,simulator)\n",
    "result_1 = simulator.run(new_circuit_1).result()\n",
    "state_1 = result_1.get_statevector()\n",
    "\n",
    "# Mostrar los estados resultantes\n",
    "print(\"Estado resultante para la entrada |0>:\")\n",
    "print(state_0)\n",
    "\n",
    "print(\"\\nEstado resultante para la entrada |1>:\")\n",
    "print(state_1)\n"
   ]
  },
  {
   "cell_type": "code",
   "execution_count": null,
   "id": "5da5a477-2ca1-4d60-b706-88cf04292e18",
   "metadata": {},
   "outputs": [],
   "source": []
  }
 ],
 "metadata": {
  "kernelspec": {
   "display_name": "Python 3 (ipykernel)",
   "language": "python",
   "name": "python3"
  },
  "language_info": {
   "codemirror_mode": {
    "name": "ipython",
    "version": 3
   },
   "file_extension": ".py",
   "mimetype": "text/x-python",
   "name": "python",
   "nbconvert_exporter": "python",
   "pygments_lexer": "ipython3",
   "version": "3.11.9"
  }
 },
 "nbformat": 4,
 "nbformat_minor": 5
}

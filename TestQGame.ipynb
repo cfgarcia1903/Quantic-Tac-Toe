{
 "cells": [
  {
   "cell_type": "markdown",
   "id": "300856fc-c37c-4e9e-8fe4-b247e958351d",
   "metadata": {
    "jp-MarkdownHeadingCollapsed": true
   },
   "source": [
    "# State Updating and Turn Switching Tests"
   ]
  },
  {
   "cell_type": "code",
   "execution_count": 1,
   "id": "8314de7d-4a14-4af2-9cec-04ceb09989ca",
   "metadata": {},
   "outputs": [],
   "source": [
    "import numpy as np\n",
    "import sympy as sp\n",
    "import matplotlib.pyplot as plt\n"
   ]
  },
  {
   "cell_type": "code",
   "execution_count": 95,
   "id": "95e8264f-1c4e-4137-a600-0862ae615c23",
   "metadata": {},
   "outputs": [
    {
     "name": "stdout",
     "output_type": "stream",
     "text": [
      "Game Started\n",
      "{'X': 0, 'O': 0}\n",
      "X move\n",
      "{'X': 1, 'O': 0}\n",
      "{'X': '1/1', 'O': '0/1'}\n",
      "O move\n",
      "{'X': 1, 'O': 1}\n",
      "{'X': '1/sqrt(2)', 'O': '1/sqrt(2)'}\n",
      "O move\n",
      "{'X': 1, 'O': 2}\n",
      "{'X': '1/sqrt(5)', 'O': '2/sqrt(5)'}\n",
      "O move\n",
      "{'X': 1, 'O': 3}\n",
      "{'X': '1/sqrt(10)', 'O': '3/sqrt(10)'}\n",
      "O move\n",
      "{'X': 1, 'O': 4}\n",
      "{'X': '1/sqrt(17)', 'O': '4/sqrt(17)'}\n",
      "O move\n",
      "{'X': 1, 'O': 5}\n",
      "{'X': '1/sqrt(26)', 'O': '5/sqrt(26)'}\n"
     ]
    },
    {
     "data": {
      "image/png": "[encoded data removed]",
      "text/plain": [
       "<Figure size 640x480 with 1 Axes>"
      ]
     },
     "metadata": {},
     "output_type": "display_data"
    }
   ],
   "source": [
    "#V1: log increases adding 1 each turn\n",
    "\n",
    "#State11 initialized as 0,0\n",
    "print('Game Started')\n",
    "state11_log={'X':0,'O':0}\n",
    "state11_coefs={'X':0,'O':0}\n",
    "print(state11_log)\n",
    "\n",
    "\n",
    "#X chose state11\n",
    "print('X move')\n",
    "player= 'X'\n",
    "state11_log[player]+=1\n",
    "norm = sp.sqrt(state11_log['X']**2 + state11_log['O']**2)\n",
    "state11_coefs['X']=str(state11_log['X'])+'/'+str(norm)\n",
    "state11_coefs['O']=str(state11_log['O'])+'/'+str(norm)\n",
    "print(state11_log)\n",
    "print(state11_coefs)\n",
    "plt.scatter( *[float(sp.sympify(state11_coefs['X'])),float(sp.sympify(state11_coefs['O']))])\n",
    "\n",
    "#O chose state11\n",
    "print('O move')\n",
    "player= 'O'\n",
    "state11_log[player]+=1\n",
    "norm = sp.sqrt(state11_log['X']**2 + state11_log['O']**2)\n",
    "state11_coefs['X']=str(state11_log['X'])+'/'+str(norm)\n",
    "state11_coefs['O']=str(state11_log['O'])+'/'+str(norm)\n",
    "print(state11_log)\n",
    "print(state11_coefs)\n",
    "plt.scatter( *[float(sp.sympify(state11_coefs['X'])),float(sp.sympify(state11_coefs['O']))])\n",
    "\n",
    "#O chose state11\n",
    "print('O move')\n",
    "player= 'O'\n",
    "state11_log[player]+=1\n",
    "norm = sp.sqrt(state11_log['X']**2 + state11_log['O']**2)\n",
    "state11_coefs['X']=str(state11_log['X'])+'/'+str(norm)\n",
    "state11_coefs['O']=str(state11_log['O'])+'/'+str(norm)\n",
    "print(state11_log)\n",
    "print(state11_coefs)\n",
    "plt.scatter( *[float(sp.sympify(state11_coefs['X'])),float(sp.sympify(state11_coefs['O']))])\n",
    "\n",
    "#O chose state11\n",
    "print('O move')\n",
    "player= 'O'\n",
    "state11_log[player]+=1\n",
    "norm = sp.sqrt(state11_log['X']**2 + state11_log['O']**2)\n",
    "state11_coefs['X']=str(state11_log['X'])+'/'+str(norm)\n",
    "state11_coefs['O']=str(state11_log['O'])+'/'+str(norm)\n",
    "print(state11_log)\n",
    "print(state11_coefs)\n",
    "plt.scatter( *[float(sp.sympify(state11_coefs['X'])),float(sp.sympify(state11_coefs['O']))])\n",
    "\n",
    "#O chose state11\n",
    "print('O move')\n",
    "player= 'O'\n",
    "state11_log[player]+=1\n",
    "norm = sp.sqrt(state11_log['X']**2 + state11_log['O']**2)\n",
    "state11_coefs['X']=str(state11_log['X'])+'/'+str(norm)\n",
    "state11_coefs['O']=str(state11_log['O'])+'/'+str(norm)\n",
    "print(state11_log)\n",
    "print(state11_coefs)\n",
    "plt.scatter( *[float(sp.sympify(state11_coefs['X'])),float(sp.sympify(state11_coefs['O']))])\n",
    "\n",
    "#O chose state11\n",
    "print('O move')\n",
    "player= 'O'\n",
    "state11_log[player]+=1\n",
    "norm = sp.sqrt(state11_log['X']**2 + state11_log['O']**2)\n",
    "state11_coefs['X']=str(state11_log['X'])+'/'+str(norm)\n",
    "state11_coefs['O']=str(state11_log['O'])+'/'+str(norm)\n",
    "print(state11_log)\n",
    "print(state11_coefs)\n",
    "plt.scatter( *[float(sp.sympify(state11_coefs['X'])),float(sp.sympify(state11_coefs['O']))])\n",
    "\n",
    "plt.xlim(0,1.1)\n",
    "plt.ylim(0,1.1)\n",
    "plt.show()"
   ]
  },
  {
   "cell_type": "code",
   "execution_count": 41,
   "id": "e4799659-6e79-4635-9b13-1e78d12a2b2b",
   "metadata": {},
   "outputs": [
    {
     "name": "stdout",
     "output_type": "stream",
     "text": [
      "Game Started\n",
      "{'X': 0, 'O': 0}\n",
      "X move\n",
      "{'X': 1, 'O': 0}\n",
      "{'X': 1, 'O': 0}\n",
      "O move\n",
      "{'X': 1/2, 'O': 1/2}\n",
      "{'X': sqrt(2)/2, 'O': sqrt(2)/2}\n",
      "O move\n",
      "{'X': 1/4, 'O': 3/4}\n",
      "{'X': 1/2, 'O': sqrt(3)/2}\n",
      "O move\n",
      "{'X': 1/8, 'O': 7/8}\n",
      "{'X': sqrt(2)/4, 'O': sqrt(14)/4}\n"
     ]
    }
   ],
   "source": [
    "#V2:\n",
    "\n",
    "#State11 initialized as 0,0\n",
    "print('Game Started')\n",
    "state11_probs={'X':0,'O':0}\n",
    "state11_coefs={'X':0,'O':0}\n",
    "print(state11_probs)\n",
    "\n",
    "\n",
    "#X chose state11\n",
    "print('X move')\n",
    "player= 'X'\n",
    "inactive= 'O'\n",
    "if state11_probs[player] == 0:\n",
    "    if state11_probs[inactive] == 0:\n",
    "        state11_probs[player] = 1\n",
    "    else:\n",
    "        state11_probs={'X':sp.Rational(1/2),'O':sp.Rational(1/2)}\n",
    "else:\n",
    "    ## hay que programar la jugada invalida\n",
    "    state11_probs[inactive]=sp.Rational(state11_probs[inactive]/2)\n",
    "    state11_probs[player] = 1 -  state11_probs[inactive]\n",
    "state11_coefs[player]=sp.sqrt(state11_probs[player])\n",
    "state11_coefs[inactive]=sp.sqrt(state11_probs[inactive])\n",
    "print(state11_probs)\n",
    "print(state11_coefs)\n",
    "\n",
    "#O chose state11\n",
    "print('O move')\n",
    "player= 'O'\n",
    "inactive= 'X'\n",
    "if state11_probs[player] == 0:\n",
    "    if state11_probs[inactive] == 0:\n",
    "        state11_probs[player] = 1\n",
    "    else:\n",
    "        state11_probs={'X':sp.Rational(1/2),'O':sp.Rational(1/2)}\n",
    "else:\n",
    "    ## hay que programar la jugada invalida\n",
    "    state11_probs[inactive]=sp.Rational(state11_probs[inactive]/2)\n",
    "    state11_probs[player] = 1 -  state11_probs[inactive]\n",
    "state11_coefs[player]=sp.sqrt(state11_probs[player])\n",
    "state11_coefs[inactive]=sp.sqrt(state11_probs[inactive])\n",
    "print(state11_probs)\n",
    "print(state11_coefs)\n",
    "\n",
    "\n",
    "#O chose state11\n",
    "print('O move')\n",
    "player= 'O'\n",
    "inactive= 'X'\n",
    "if state11_probs[player] == 0:\n",
    "    if state11_probs[inactive] == 0:\n",
    "        state11_probs[player] = 1\n",
    "    else:\n",
    "        state11_probs={'X':sp.Rational(1/2),'O':sp.Rational(1/2)}\n",
    "else:\n",
    "    ## hay que programar la jugada invalida\n",
    "    state11_probs[inactive]=sp.Rational(state11_probs[inactive]/2)\n",
    "    state11_probs[player] = 1 -  state11_probs[inactive]\n",
    "state11_coefs[player]=sp.sqrt(state11_probs[player])\n",
    "state11_coefs[inactive]=sp.sqrt(state11_probs[inactive])\n",
    "print(state11_probs)\n",
    "print(state11_coefs)\n",
    "\n",
    "\n",
    "#O chose state11\n",
    "print('O move')\n",
    "player= 'O'\n",
    "inactive= 'X'\n",
    "if state11_probs[player] == 0:\n",
    "    if state11_probs[inactive] == 0:\n",
    "        state11_probs[player] = 1\n",
    "    else:\n",
    "        state11_probs={'X':sp.Rational(1/2),'O':sp.Rational(1/2)}\n",
    "else:\n",
    "    ## hay que programar la jugada invalida\n",
    "    state11_probs[inactive]=sp.Rational(state11_probs[inactive]/2)\n",
    "    state11_probs[player] = 1 -  state11_probs[inactive]\n",
    "state11_coefs[player]=sp.sqrt(state11_probs[player])\n",
    "state11_coefs[inactive]=sp.sqrt(state11_probs[inactive])\n",
    "print(state11_probs)\n",
    "print(state11_coefs)"
   ]
  },
  {
   "cell_type": "code",
   "execution_count": 44,
   "id": "c2674282-13ce-423d-8a70-66edea17b01c",
   "metadata": {},
   "outputs": [
    {
     "name": "stdout",
     "output_type": "stream",
     "text": [
      "Game Started\n",
      "{'X': 0, 'O': 0}\n",
      "X move\n",
      "{'X': 1, 'O': 0}\n",
      "{'X': 1, 'O': 0}\n",
      "O move\n",
      "{'X': 1/2, 'O': 1/2}\n",
      "{'X': sqrt(2)/2, 'O': sqrt(2)/2}\n",
      "O move\n",
      "{'X': 1/4, 'O': 3/4}\n",
      "{'X': 1/2, 'O': sqrt(3)/2}\n",
      "O move\n",
      "{'X': 1/8, 'O': 7/8}\n",
      "{'X': sqrt(2)/4, 'O': sqrt(14)/4}\n"
     ]
    }
   ],
   "source": [
    "# Functional programing\n",
    "def move(state_probs,state_coefs,player,inactive, w_model=\"half_pow\"):\n",
    "    if w_model=='half_pow':\n",
    "        if state_probs[player] == 0:\n",
    "            if state_probs[inactive] == 0:\n",
    "                state_probs[player] = 1\n",
    "            else:\n",
    "                state_probs={'X':sp.Rational(1/2),'O':sp.Rational(1/2)}\n",
    "        else:\n",
    "            ## hay que programar la jugada invalida\n",
    "            state_probs[inactive]=sp.Rational(state_probs[inactive]/2)\n",
    "            state_probs[player] = 1 -  state_probs[inactive]\n",
    "        state_coefs[player]=sp.sqrt(state_probs[player])\n",
    "        state_coefs[inactive]=sp.sqrt(state_probs[inactive])\n",
    "\n",
    "        return state_probs,state_coefs\n",
    "\n",
    "\n",
    "\n",
    "#V2.1:\n",
    "\n",
    "#State11 initialized as 0,0\n",
    "print('Game Started')\n",
    "state11_probs={'X':0,'O':0}\n",
    "state11_coefs={'X':0,'O':0}\n",
    "print(state11_probs)\n",
    "\n",
    "\n",
    "#X chose state11\n",
    "print('X move')\n",
    "player= 'X'\n",
    "inactive= 'O'\n",
    "state11_probs,state11_coefs= move(state11_probs,state11_coefs,player,inactive, w_model=\"half_pow\")\n",
    "print(state11_probs)\n",
    "print(state11_coefs)\n",
    "\n",
    "#O chose state11\n",
    "print('O move')\n",
    "player= 'O'\n",
    "inactive= 'X'\n",
    "state11_probs,state11_coefs= move(state11_probs,state11_coefs,player,inactive, w_model=\"half_pow\")\n",
    "print(state11_probs)\n",
    "print(state11_coefs)\n",
    "\n",
    "\n",
    "#O chose state11\n",
    "print('O move')\n",
    "player= 'O'\n",
    "inactive= 'X'\n",
    "state11_probs,state11_coefs= move(state11_probs,state11_coefs,player,inactive, w_model=\"half_pow\")\n",
    "print(state11_probs)\n",
    "print(state11_coefs)\n",
    "\n",
    "\n",
    "#O chose state11\n",
    "print('O move')\n",
    "player= 'O'\n",
    "inactive= 'X'\n",
    "state11_probs,state11_coefs= move(state11_probs,state11_coefs,player,inactive, w_model=\"half_pow\")\n",
    "print(state11_probs)\n",
    "print(state11_coefs)"
   ]
  },
  {
   "cell_type": "code",
   "execution_count": 52,
   "id": "fd8a3cef-f98f-47e8-9ee3-65f38fbb8c9b",
   "metadata": {},
   "outputs": [],
   "source": [
    "# Object Oriented Programming:\n",
    "class TurnClass:\n",
    "    def __init__(self, xstart=True):\n",
    "        if xstart:\n",
    "            self.player='X'\n",
    "            self.inactive='O'\n",
    "        else:\n",
    "            self.player='O'\n",
    "            self.inactive='X'\n",
    "    def switch(self):\n",
    "        self.player,self.inactive=self.inactive,self.player\n",
    "\n",
    "\n",
    "class State:\n",
    "    def __init__(self, i,j):\n",
    "        self.i=i\n",
    "        self.j=j\n",
    "        self.probs= {'X':0,'O':0}\n",
    "        self.coefs= {'X':0,'O':0}\n",
    "        self.on= False\n",
    "    def move(self,turn,w_model='half_pow'):\n",
    "        if w_model=='half_pow':\n",
    "            if self.probs[turn.player] == 0:\n",
    "                if self.probs[turn.inactive] == 0:\n",
    "                    self.probs[turn.player] = 1\n",
    "                else:\n",
    "                    self.probs={'X':sp.Rational(1/2),'O':sp.Rational(1/2)}\n",
    "            else:\n",
    "                ## hay que agregar otro if para programar la jugada invalida\n",
    "                self.probs[turn.inactive]=sp.Rational(self.probs[turn.inactive]/2)\n",
    "                self.probs[turn.player] = 1 -  self.probs[turn.inactive]\n",
    "            self.coefs[turn.player]=sp.sqrt(self.probs[turn.player])\n",
    "            self.coefs[turn.inactive]=sp.sqrt(self.probs[turn.inactive])\n"
   ]
  },
  {
   "cell_type": "code",
   "execution_count": 94,
   "id": "192790f5-256f-4949-9ffb-7a82610a869a",
   "metadata": {},
   "outputs": [
    {
     "name": "stdout",
     "output_type": "stream",
     "text": [
      "Game Started\n",
      "{'X': 0, 'O': 0}\n",
      "{'X': 0, 'O': 0}\n",
      "it's X turn\n",
      "{'X': 1, 'O': 0}\n",
      "{'X': 1, 'O': 0}\n",
      "it's O turn\n",
      "{'X': 1/2, 'O': 1/2}\n",
      "{'X': sqrt(2)/2, 'O': sqrt(2)/2}\n",
      "it's X turn (didn't choose state11)\n",
      "{'X': 1/2, 'O': 1/2}\n",
      "{'X': sqrt(2)/2, 'O': sqrt(2)/2}\n",
      "it's O turn\n",
      "{'X': 1/4, 'O': 3/4}\n",
      "{'X': 1/2, 'O': sqrt(3)/2}\n",
      "it's X turn (didn't choose state11)\n",
      "{'X': 1/4, 'O': 3/4}\n",
      "{'X': 1/2, 'O': sqrt(3)/2}\n",
      "it's O turn\n",
      "{'X': 1/8, 'O': 7/8}\n",
      "{'X': sqrt(2)/4, 'O': sqrt(14)/4}\n",
      "it's X turn (didn't choose state11)\n",
      "{'X': 1/8, 'O': 7/8}\n",
      "{'X': sqrt(2)/4, 'O': sqrt(14)/4}\n",
      "it's O turn\n",
      "{'X': 1/16, 'O': 15/16}\n",
      "{'X': 1/4, 'O': sqrt(15)/4}\n",
      "it's X turn (didn't choose state11)\n",
      "{'X': 1/16, 'O': 15/16}\n",
      "{'X': 1/4, 'O': sqrt(15)/4}\n",
      "it's O turn\n",
      "{'X': 1/32, 'O': 31/32}\n",
      "{'X': sqrt(2)/8, 'O': sqrt(62)/8}\n"
     ]
    },
    {
     "data": {
      "image/png": "[encoded data removed]",
      "text/plain": [
       "<Figure size 640x480 with 1 Axes>"
      ]
     },
     "metadata": {},
     "output_type": "display_data"
    }
   ],
   "source": [
    "#V2.2:\n",
    "\n",
    "#State11 initialized as 0,0\n",
    "print('Game Started')\n",
    "state11=State(1,1)          # init state11\n",
    "turn=TurnClass(xstart=True) # init turn\n",
    "print(state11.probs)\n",
    "print(state11.coefs)\n",
    "\n",
    "\n",
    "#X chose state11\n",
    "print(f'it\\'s {turn.player} turn')\n",
    "state11.move(turn,w_model='half_pow')\n",
    "turn.switch()\n",
    "print(state11.probs)\n",
    "print(state11.coefs)\n",
    "plt.scatter( *[float(state11.coefs['X']),float(state11.coefs['O'])])\n",
    "#plt.show()\n",
    "\n",
    "#O chose state11\n",
    "print(f'it\\'s {turn.player} turn')\n",
    "state11.move(turn,w_model='half_pow')\n",
    "turn.switch()\n",
    "print(state11.probs)\n",
    "print(state11.coefs)\n",
    "plt.scatter( *[float(state11.coefs['X']),float(state11.coefs['O'])])\n",
    "#plt.show()\n",
    "\n",
    "#X didn't choose state11\n",
    "print(f'it\\'s {turn.player} turn (didn\\'t choose state11)')\n",
    "#state11.move(turn,w_model='half_pow')\n",
    "turn.switch()\n",
    "print(state11.probs)\n",
    "print(state11.coefs)\n",
    "\n",
    "\n",
    "#O chose state11\n",
    "print(f'it\\'s {turn.player} turn')\n",
    "state11.move(turn,w_model='half_pow')\n",
    "turn.switch()\n",
    "print(state11.probs)\n",
    "print(state11.coefs)\n",
    "plt.scatter( *[float(state11.coefs['X']),float(state11.coefs['O'])])\n",
    "#plt.show()\n",
    "\n",
    "#X didn't choose state11\n",
    "print(f'it\\'s {turn.player} turn (didn\\'t choose state11)')\n",
    "#state11.move(turn,w_model='half_pow')\n",
    "turn.switch()\n",
    "print(state11.probs)\n",
    "print(state11.coefs)\n",
    "\n",
    "\n",
    "#O chose state11\n",
    "print(f'it\\'s {turn.player} turn')\n",
    "state11.move(turn,w_model='half_pow')\n",
    "turn.switch()\n",
    "print(state11.probs)\n",
    "print(state11.coefs)\n",
    "plt.scatter( *[float(state11.coefs['X']),float(state11.coefs['O'])])\n",
    "\n",
    "#X didn't choose state11\n",
    "print(f'it\\'s {turn.player} turn (didn\\'t choose state11)')\n",
    "#state11.move(turn,w_model='half_pow')\n",
    "turn.switch()\n",
    "print(state11.probs)\n",
    "print(state11.coefs)\n",
    "\n",
    "\n",
    "#O chose state11\n",
    "print(f'it\\'s {turn.player} turn')\n",
    "state11.move(turn,w_model='half_pow')\n",
    "turn.switch()\n",
    "print(state11.probs)\n",
    "print(state11.coefs)\n",
    "plt.scatter( *[float(state11.coefs['X']),float(state11.coefs['O'])])\n",
    "\n",
    "#X didn't choose state11\n",
    "print(f'it\\'s {turn.player} turn (didn\\'t choose state11)')\n",
    "#state11.move(turn,w_model='half_pow')\n",
    "turn.switch()\n",
    "print(state11.probs)\n",
    "print(state11.coefs)\n",
    "\n",
    "\n",
    "#O chose state11\n",
    "print(f'it\\'s {turn.player} turn')\n",
    "state11.move(turn,w_model='half_pow')\n",
    "turn.switch()\n",
    "print(state11.probs)\n",
    "print(state11.coefs)\n",
    "plt.scatter( *[float(state11.coefs['X']),float(state11.coefs['O'])])\n",
    "\n",
    "plt.xlim(0,1.1)\n",
    "plt.ylim(0,1.1)\n",
    "plt.show()"
   ]
  },
  {
   "cell_type": "markdown",
   "id": "b17855bb-f6da-4ed7-8bd5-29201637de81",
   "metadata": {
    "jp-MarkdownHeadingCollapsed": true
   },
   "source": [
    "# Grid Test"
   ]
  },
  {
   "cell_type": "code",
   "execution_count": 155,
   "id": "965f9351-aa77-4c6a-a3d8-0aa25c8aeae9",
   "metadata": {},
   "outputs": [],
   "source": [
    "# Object Oriented Programming:\n",
    "class TurnClass:\n",
    "    def __init__(self, xstart=True):\n",
    "        if xstart:\n",
    "            self.player='X'\n",
    "            self.inactive='O'\n",
    "        else:\n",
    "            self.player='O'\n",
    "            self.inactive='X'\n",
    "    def switch(self):\n",
    "        self.player,self.inactive=self.inactive,self.player\n",
    "\n",
    "\n",
    "class State:\n",
    "    def __init__(self, i,j):\n",
    "        self.i=i\n",
    "        self.j=j\n",
    "        self.probs= {'X':0,'O':0}\n",
    "        self.coefs= {'X':0,'O':0}\n",
    "        self.on= False\n",
    "        \n",
    "    def __str__(self):\n",
    "        return f\"X: {self.coefs['X']}, O: {self.coefs['O']}\"\n",
    "        \n",
    "    def move(self,turn,w_model='half_pow'):\n",
    "        if w_model=='half_pow':\n",
    "            if self.probs[turn.player] == 0:\n",
    "                if self.probs[turn.inactive] == 0:\n",
    "                    self.probs[turn.player] = 1\n",
    "                else:\n",
    "                    self.probs={'X':sp.Rational(1/2),'O':sp.Rational(1/2)}\n",
    "            else:\n",
    "                ## hay que agregar otro if para programar la jugada invalida (cuando ya tienes prob 1 y vuelves a seleccionar la casilla)\n",
    "                ## ya no es necesario, magicamente el algoritmo lo soluciona por si solo, pero por si acaso mejor dejar el comentario en caso algo salga mal\n",
    "                if self.probs[turn.player]>=self.probs[turn.inactive]:\n",
    "                    self.probs[turn.inactive]=sp.Rational(self.probs[turn.inactive]/2)\n",
    "                    self.probs[turn.player] = 1 -  self.probs[turn.inactive]\n",
    "                else:\n",
    "                    self.probs[turn.player]=sp.Rational(self.probs[turn.player]*2)\n",
    "                    self.probs[turn.inactive] = 1 -  self.probs[turn.player]\n",
    "                    \n",
    "            self.coefs[turn.player]=sp.sqrt(self.probs[turn.player])\n",
    "            self.coefs[turn.inactive]=sp.sqrt(self.probs[turn.inactive])\n",
    "    \n"
   ]
  },
  {
   "cell_type": "code",
   "execution_count": 156,
   "id": "83b51b8b-f4a4-452b-8f20-872fc1d06bcc",
   "metadata": {},
   "outputs": [],
   "source": [
    "# Grid Initialization\n",
    "state00=State(0,0)\n",
    "state01=State(0,1)\n",
    "state02=State(0,2)\n",
    "state10=State(1,0)\n",
    "state11=State(1,1)\n",
    "state12=State(1,2)\n",
    "state20=State(2,0)\n",
    "state21=State(2,1)\n",
    "state22=State(2,2)\n",
    "grid=np.array([[state00,state01,state02],[state10,state11,state12],[state20,state21,state22]])\n",
    "grid_probs=np.array([[state00.probs,state01.probs,state02.probs],[state10.probs,state11.probs,state12.probs],[state20.probs,state21.probs,state22.probs]])\n",
    "grid_coefs=np.array([[state00.coefs,state01.coefs,state02.coefs],[state10.coefs,state11.coefs,state12.coefs],[state20.coefs,state21.coefs,state22.coefs]])\n",
    "# Turn Initialization\n",
    "turn=TurnClass(xstart=True)\n"
   ]
  },
  {
   "cell_type": "code",
   "execution_count": 157,
   "id": "d24fb913-6b46-408f-a166-9b60ac05e51d",
   "metadata": {},
   "outputs": [
    {
     "name": "stdout",
     "output_type": "stream",
     "text": [
      "\n",
      "it's X turn\n"
     ]
    },
    {
     "name": "stdin",
     "output_type": "stream",
     "text": [
      "Row:  0\n",
      "Col:  0\n"
     ]
    },
    {
     "name": "stdout",
     "output_type": "stream",
     "text": [
      "[[{'X': 1, 'O': 0} {'X': 0, 'O': 0} {'X': 0, 'O': 0}]\n",
      " [{'X': 0, 'O': 0} {'X': 0, 'O': 0} {'X': 0, 'O': 0}]\n",
      " [{'X': 0, 'O': 0} {'X': 0, 'O': 0} {'X': 0, 'O': 0}]]\n",
      "\n",
      "it's O turn\n"
     ]
    },
    {
     "name": "stdin",
     "output_type": "stream",
     "text": [
      "Row:  0\n",
      "Col:  0\n"
     ]
    },
    {
     "name": "stdout",
     "output_type": "stream",
     "text": [
      "[[{'X': 1/2, 'O': 1/2} {'X': 0, 'O': 0} {'X': 0, 'O': 0}]\n",
      " [{'X': 0, 'O': 0} {'X': 0, 'O': 0} {'X': 0, 'O': 0}]\n",
      " [{'X': 0, 'O': 0} {'X': 0, 'O': 0} {'X': 0, 'O': 0}]]\n",
      "\n",
      "it's X turn\n"
     ]
    },
    {
     "name": "stdin",
     "output_type": "stream",
     "text": [
      "Row:  0\n",
      "Col:  0\n"
     ]
    },
    {
     "name": "stdout",
     "output_type": "stream",
     "text": [
      "[[{'X': 3/4, 'O': 1/4} {'X': 0, 'O': 0} {'X': 0, 'O': 0}]\n",
      " [{'X': 0, 'O': 0} {'X': 0, 'O': 0} {'X': 0, 'O': 0}]\n",
      " [{'X': 0, 'O': 0} {'X': 0, 'O': 0} {'X': 0, 'O': 0}]]\n",
      "\n",
      "it's O turn\n"
     ]
    },
    {
     "ename": "KeyboardInterrupt",
     "evalue": "Interrupted by user",
     "output_type": "error",
     "traceback": [
      "\u001b[1;31m---------------------------------------------------------------------------\u001b[0m",
      "\u001b[1;31mKeyboardInterrupt\u001b[0m                         Traceback (most recent call last)",
      "Cell \u001b[1;32mIn[157], line 3\u001b[0m\n\u001b[0;32m      1\u001b[0m \u001b[38;5;28;01mfor\u001b[39;00m _ \u001b[38;5;129;01min\u001b[39;00m \u001b[38;5;28mrange\u001b[39m(\u001b[38;5;241m27\u001b[39m):\n\u001b[0;32m      2\u001b[0m     \u001b[38;5;28mprint\u001b[39m(\u001b[38;5;124mf\u001b[39m\u001b[38;5;124m'\u001b[39m\u001b[38;5;130;01m\\n\u001b[39;00m\u001b[38;5;124mit\u001b[39m\u001b[38;5;130;01m\\'\u001b[39;00m\u001b[38;5;124ms \u001b[39m\u001b[38;5;132;01m{\u001b[39;00mturn\u001b[38;5;241m.\u001b[39mplayer\u001b[38;5;132;01m}\u001b[39;00m\u001b[38;5;124m turn\u001b[39m\u001b[38;5;124m'\u001b[39m)\n\u001b[1;32m----> 3\u001b[0m     row\u001b[38;5;241m=\u001b[39m\u001b[38;5;28mint\u001b[39m(\u001b[38;5;28minput\u001b[39m(\u001b[38;5;124m'\u001b[39m\u001b[38;5;124mRow: \u001b[39m\u001b[38;5;124m'\u001b[39m))\n\u001b[0;32m      4\u001b[0m     col\u001b[38;5;241m=\u001b[39m\u001b[38;5;28mint\u001b[39m(\u001b[38;5;28minput\u001b[39m(\u001b[38;5;124m'\u001b[39m\u001b[38;5;124mCol: \u001b[39m\u001b[38;5;124m'\u001b[39m))\n\u001b[0;32m      5\u001b[0m     grid[row,col]\u001b[38;5;241m.\u001b[39mmove(turn,w_model\u001b[38;5;241m=\u001b[39m\u001b[38;5;124m'\u001b[39m\u001b[38;5;124mhalf_pow\u001b[39m\u001b[38;5;124m'\u001b[39m)\n",
      "File \u001b[1;32m~\\anaconda3\\Lib\\site-packages\\ipykernel\\kernelbase.py:1262\u001b[0m, in \u001b[0;36mKernel.raw_input\u001b[1;34m(self, prompt)\u001b[0m\n\u001b[0;32m   1260\u001b[0m     msg \u001b[38;5;241m=\u001b[39m \u001b[38;5;124m\"\u001b[39m\u001b[38;5;124mraw_input was called, but this frontend does not support input requests.\u001b[39m\u001b[38;5;124m\"\u001b[39m\n\u001b[0;32m   1261\u001b[0m     \u001b[38;5;28;01mraise\u001b[39;00m StdinNotImplementedError(msg)\n\u001b[1;32m-> 1262\u001b[0m \u001b[38;5;28;01mreturn\u001b[39;00m \u001b[38;5;28mself\u001b[39m\u001b[38;5;241m.\u001b[39m_input_request(\n\u001b[0;32m   1263\u001b[0m     \u001b[38;5;28mstr\u001b[39m(prompt),\n\u001b[0;32m   1264\u001b[0m     \u001b[38;5;28mself\u001b[39m\u001b[38;5;241m.\u001b[39m_parent_ident[\u001b[38;5;124m\"\u001b[39m\u001b[38;5;124mshell\u001b[39m\u001b[38;5;124m\"\u001b[39m],\n\u001b[0;32m   1265\u001b[0m     \u001b[38;5;28mself\u001b[39m\u001b[38;5;241m.\u001b[39mget_parent(\u001b[38;5;124m\"\u001b[39m\u001b[38;5;124mshell\u001b[39m\u001b[38;5;124m\"\u001b[39m),\n\u001b[0;32m   1266\u001b[0m     password\u001b[38;5;241m=\u001b[39m\u001b[38;5;28;01mFalse\u001b[39;00m,\n\u001b[0;32m   1267\u001b[0m )\n",
      "File \u001b[1;32m~\\anaconda3\\Lib\\site-packages\\ipykernel\\kernelbase.py:1305\u001b[0m, in \u001b[0;36mKernel._input_request\u001b[1;34m(self, prompt, ident, parent, password)\u001b[0m\n\u001b[0;32m   1302\u001b[0m \u001b[38;5;28;01mexcept\u001b[39;00m \u001b[38;5;167;01mKeyboardInterrupt\u001b[39;00m:\n\u001b[0;32m   1303\u001b[0m     \u001b[38;5;66;03m# re-raise KeyboardInterrupt, to truncate traceback\u001b[39;00m\n\u001b[0;32m   1304\u001b[0m     msg \u001b[38;5;241m=\u001b[39m \u001b[38;5;124m\"\u001b[39m\u001b[38;5;124mInterrupted by user\u001b[39m\u001b[38;5;124m\"\u001b[39m\n\u001b[1;32m-> 1305\u001b[0m     \u001b[38;5;28;01mraise\u001b[39;00m \u001b[38;5;167;01mKeyboardInterrupt\u001b[39;00m(msg) \u001b[38;5;28;01mfrom\u001b[39;00m \u001b[38;5;28;01mNone\u001b[39;00m\n\u001b[0;32m   1306\u001b[0m \u001b[38;5;28;01mexcept\u001b[39;00m \u001b[38;5;167;01mException\u001b[39;00m:\n\u001b[0;32m   1307\u001b[0m     \u001b[38;5;28mself\u001b[39m\u001b[38;5;241m.\u001b[39mlog\u001b[38;5;241m.\u001b[39mwarning(\u001b[38;5;124m\"\u001b[39m\u001b[38;5;124mInvalid Message:\u001b[39m\u001b[38;5;124m\"\u001b[39m, exc_info\u001b[38;5;241m=\u001b[39m\u001b[38;5;28;01mTrue\u001b[39;00m)\n",
      "\u001b[1;31mKeyboardInterrupt\u001b[0m: Interrupted by user"
     ]
    }
   ],
   "source": [
    "# Game\n",
    "for _ in range(27):\n",
    "    print(f'\\nit\\'s {turn.player} turn')\n",
    "    row=int(input('Row: '))\n",
    "    col=int(input('Col: '))\n",
    "    grid[row,col].move(turn,w_model='half_pow')\n",
    "    grid_probs=np.array([[state00.probs,state01.probs,state02.probs],[state10.probs,state11.probs,state12.probs],[state20.probs,state21.probs,state22.probs]])\n",
    "    grid_coefs=np.array([[state00.coefs,state01.coefs,state02.coefs],[state10.coefs,state11.coefs,state12.coefs],[state20.coefs,state21.coefs,state22.coefs]])\n",
    "    print(grid_probs)\n",
    "    turn.switch()\n",
    "    "
   ]
  },
  {
   "cell_type": "markdown",
   "id": "a529b34b-3c5f-4e29-a9b4-e9a39230434a",
   "metadata": {
    "jp-MarkdownHeadingCollapsed": true
   },
   "source": [
    "# Gameplay test"
   ]
  },
  {
   "cell_type": "code",
   "execution_count": 186,
   "id": "33b35d1a-7f8b-4a50-b3b8-bd477a68617b",
   "metadata": {},
   "outputs": [],
   "source": [
    "# Classes and Functions definition:\n",
    "class TurnClass:\n",
    "    def __init__(self, xstart=True):\n",
    "        if xstart:\n",
    "            self.player='X'\n",
    "            self.inactive='O'\n",
    "        else:\n",
    "            self.player='O'\n",
    "            self.inactive='X'\n",
    "    def switch(self):\n",
    "        self.player,self.inactive=self.inactive,self.player\n",
    "\n",
    "\n",
    "class State:\n",
    "    def __init__(self, i,j):\n",
    "        self.i=i\n",
    "        self.j=j\n",
    "        self.probs= {'X':0,'O':0}\n",
    "        self.coefs= {'X':0,'O':0}\n",
    "        self.on= False\n",
    "        \n",
    "    def __str__(self):\n",
    "        return f\"X: {self.coefs['X']}, O: {self.coefs['O']}\"\n",
    "        \n",
    "    def move(self,turn,w_model='half_pow'):\n",
    "        if w_model=='half_pow':\n",
    "            if self.probs[turn.player] == 0:\n",
    "                if self.probs[turn.inactive] == 0:\n",
    "                    self.probs[turn.player] = 1\n",
    "                else:\n",
    "                    self.probs={'X':sp.Rational(1/2),'O':sp.Rational(1/2)}\n",
    "            else:\n",
    "                ## hay que agregar otro if para programar la jugada invalida (cuando ya tienes prob 1 y vuelves a seleccionar la casilla)\n",
    "                ## ya no es necesario, magicamente el algoritmo lo soluciona por si solo, pero por si acaso mejor dejar el comentario en caso algo salga mal\n",
    "                if self.probs[turn.player]>=self.probs[turn.inactive]:\n",
    "                    self.probs[turn.inactive]=sp.Rational(self.probs[turn.inactive]/2)\n",
    "                    self.probs[turn.player] = 1 -  self.probs[turn.inactive]\n",
    "                else:\n",
    "                    self.probs[turn.player]=sp.Rational(self.probs[turn.player]*2)\n",
    "                    self.probs[turn.inactive] = 1 -  self.probs[turn.player]\n",
    "                    \n",
    "            self.coefs[turn.player]=sp.sqrt(self.probs[turn.player])\n",
    "            self.coefs[turn.inactive]=sp.sqrt(self.probs[turn.inactive])\n",
    "        \n",
    "\n",
    "def input_position(moves_log, turn, last=1):\n",
    "    while True:\n",
    "        pos_string= input('row,col: ')\n",
    "        if pos_string == '-':\n",
    "            position = None\n",
    "            break\n",
    "        position=eval(f'[{pos_string}]') #no es a prueba de weones\n",
    "        if position in moves_log[-1*last:]:\n",
    "            print('Invalid move')\n",
    "        elif grid[*position].probs[turn.player]==1:\n",
    "            print('Invalid move')\n",
    "        else:\n",
    "            break\n",
    "    return position\n",
    "        \n"
   ]
  },
  {
   "cell_type": "code",
   "execution_count": 187,
   "id": "b7db6260-c52d-4783-8b7e-8f113049bfda",
   "metadata": {},
   "outputs": [],
   "source": [
    "# Rules\n",
    "last_no=1\n",
    "model='half_pow'\n",
    "max_turns=26\n",
    "x_start=True\n",
    "\n",
    "# Grid Initialization\n",
    "state00=State(0,0)\n",
    "state01=State(0,1)\n",
    "state02=State(0,2)\n",
    "state10=State(1,0)\n",
    "state11=State(1,1)\n",
    "state12=State(1,2)\n",
    "state20=State(2,0)\n",
    "state21=State(2,1)\n",
    "state22=State(2,2)\n",
    "grid=np.array([[state00,state01,state02],[state10,state11,state12],[state20,state21,state22]])\n",
    "grid_probs=np.array([[state00.probs,state01.probs,state02.probs],[state10.probs,state11.probs,state12.probs],[state20.probs,state21.probs,state22.probs]])\n",
    "grid_coefs=np.array([[state00.coefs,state01.coefs,state02.coefs],[state10.coefs,state11.coefs,state12.coefs],[state20.coefs,state21.coefs,state22.coefs]])\n",
    "# Turn Initialization\n",
    "turn=TurnClass(xstart=x_start)\n",
    "# Moves Log Initialization\n",
    "moves_log=[]"
   ]
  },
  {
   "cell_type": "code",
   "execution_count": 188,
   "id": "2a6ee11d-ddaf-486c-a8a6-60a869bfaff4",
   "metadata": {},
   "outputs": [
    {
     "name": "stdout",
     "output_type": "stream",
     "text": [
      "Game Started\n",
      "[[{'X': 0, 'O': 0} {'X': 0, 'O': 0} {'X': 0, 'O': 0}]\n",
      " [{'X': 0, 'O': 0} {'X': 0, 'O': 0} {'X': 0, 'O': 0}]\n",
      " [{'X': 0, 'O': 0} {'X': 0, 'O': 0} {'X': 0, 'O': 0}]]\n",
      "\n",
      "it's X turn\n"
     ]
    },
    {
     "name": "stdin",
     "output_type": "stream",
     "text": [
      "row,col:  0,0\n"
     ]
    },
    {
     "name": "stdout",
     "output_type": "stream",
     "text": [
      "[[{'X': 1, 'O': 0} {'X': 0, 'O': 0} {'X': 0, 'O': 0}]\n",
      " [{'X': 0, 'O': 0} {'X': 0, 'O': 0} {'X': 0, 'O': 0}]\n",
      " [{'X': 0, 'O': 0} {'X': 0, 'O': 0} {'X': 0, 'O': 0}]]\n",
      "\n",
      "it's O turn\n"
     ]
    },
    {
     "name": "stdin",
     "output_type": "stream",
     "text": [
      "row,col:  0,0\n"
     ]
    },
    {
     "name": "stdout",
     "output_type": "stream",
     "text": [
      "Invalid move\n"
     ]
    },
    {
     "name": "stdin",
     "output_type": "stream",
     "text": [
      "row,col:  0,1\n"
     ]
    },
    {
     "name": "stdout",
     "output_type": "stream",
     "text": [
      "[[{'X': 1, 'O': 0} {'X': 0, 'O': 1} {'X': 0, 'O': 0}]\n",
      " [{'X': 0, 'O': 0} {'X': 0, 'O': 0} {'X': 0, 'O': 0}]\n",
      " [{'X': 0, 'O': 0} {'X': 0, 'O': 0} {'X': 0, 'O': 0}]]\n",
      "\n",
      "it's X turn\n"
     ]
    },
    {
     "name": "stdin",
     "output_type": "stream",
     "text": [
      "row,col:  0,0\n"
     ]
    },
    {
     "name": "stdout",
     "output_type": "stream",
     "text": [
      "Invalid move\n"
     ]
    },
    {
     "name": "stdin",
     "output_type": "stream",
     "text": [
      "row,col:  0,2\n"
     ]
    },
    {
     "name": "stdout",
     "output_type": "stream",
     "text": [
      "[[{'X': 1, 'O': 0} {'X': 0, 'O': 1} {'X': 1, 'O': 0}]\n",
      " [{'X': 0, 'O': 0} {'X': 0, 'O': 0} {'X': 0, 'O': 0}]\n",
      " [{'X': 0, 'O': 0} {'X': 0, 'O': 0} {'X': 0, 'O': 0}]]\n",
      "\n",
      "it's O turn\n"
     ]
    },
    {
     "name": "stdin",
     "output_type": "stream",
     "text": [
      "row,col:  0,0\n"
     ]
    },
    {
     "name": "stdout",
     "output_type": "stream",
     "text": [
      "[[{'X': sqrt(2)/2, 'O': sqrt(2)/2} {'X': 0, 'O': 1} {'X': 1, 'O': 0}]\n",
      " [{'X': 0, 'O': 0} {'X': 0, 'O': 0} {'X': 0, 'O': 0}]\n",
      " [{'X': 0, 'O': 0} {'X': 0, 'O': 0} {'X': 0, 'O': 0}]]\n",
      "\n",
      "it's X turn\n"
     ]
    },
    {
     "name": "stdin",
     "output_type": "stream",
     "text": [
      "row,col:  -\n"
     ]
    }
   ],
   "source": [
    "# Game\n",
    "print('Game Started')\n",
    "print(grid_coefs)\n",
    "\n",
    "for _ in range(max_turns):\n",
    "    print(f'\\nit\\'s {turn.player} turn')\n",
    "    position=input_position(moves_log, turn, last=last_no)\n",
    "    if position==None:\n",
    "        break\n",
    "    grid[*position].move(turn,w_model=model)\n",
    "    moves_log.append(position)\n",
    "    grid_probs=np.array([[state00.probs,state01.probs,state02.probs],[state10.probs,state11.probs,state12.probs],[state20.probs,state21.probs,state22.probs]])\n",
    "    grid_coefs=np.array([[state00.coefs,state01.coefs,state02.coefs],[state10.coefs,state11.coefs,state12.coefs],[state20.coefs,state21.coefs,state22.coefs]])\n",
    "    print(grid_coefs)\n",
    "    turn.switch()\n",
    "    "
   ]
  },
  {
   "cell_type": "markdown",
   "id": "82c63277-325d-4a16-a74b-e1a4b41a6951",
   "metadata": {
    "jp-MarkdownHeadingCollapsed": true
   },
   "source": [
    "# Colapse Test"
   ]
  },
  {
   "cell_type": "code",
   "execution_count": 221,
   "id": "a58bd386-5daa-4f1b-bfb9-dfe105756b20",
   "metadata": {},
   "outputs": [],
   "source": [
    "# Classes and Functions definition:\n",
    "class TurnClass:\n",
    "    def __init__(self, xstart=True):\n",
    "        if xstart:\n",
    "            self.player='X'\n",
    "            self.inactive='O'\n",
    "        else:\n",
    "            self.player='O'\n",
    "            self.inactive='X'\n",
    "    def switch(self):\n",
    "        self.player,self.inactive=self.inactive,self.player\n",
    "\n",
    "class State:\n",
    "    def __init__(self, i,j):\n",
    "        self.i=i\n",
    "        self.j=j\n",
    "        self.probs= {'X':0,'O':0}\n",
    "        self.coefs= {'X':0,'O':0}\n",
    "        self.on= False\n",
    "        self.collapsed = None\n",
    "        \n",
    "    def move(self,turn,w_model='half_pow'):\n",
    "        if w_model=='half_pow':\n",
    "            if self.probs[turn.player] == 0:\n",
    "                if self.probs[turn.inactive] == 0:\n",
    "                    self.probs[turn.player] = 1\n",
    "                else:\n",
    "                    self.probs={'X':sp.Rational(1/2),'O':sp.Rational(1/2)}\n",
    "            else:\n",
    "                ## hay que agregar otro if para programar la jugada invalida (cuando ya tienes prob 1 y vuelves a seleccionar la casilla)\n",
    "                ## ya no es necesario, magicamente el algoritmo lo soluciona por si solo, pero por si acaso mejor dejar el comentario en caso algo salga mal\n",
    "                if self.probs[turn.player]>=self.probs[turn.inactive]:\n",
    "                    self.probs[turn.inactive]=sp.Rational(self.probs[turn.inactive]/2)\n",
    "                    self.probs[turn.player] = 1 -  self.probs[turn.inactive]\n",
    "                else:\n",
    "                    self.probs[turn.player]=sp.Rational(self.probs[turn.player]*2)\n",
    "                    self.probs[turn.inactive] = 1 -  self.probs[turn.player]\n",
    "                    \n",
    "            self.coefs[turn.player]=sp.sqrt(self.probs[turn.player])\n",
    "            self.coefs[turn.inactive]=sp.sqrt(self.probs[turn.inactive])\n",
    "            \n",
    "    def collapse(self):\n",
    "        if self.collapsed==None:\n",
    "            if self.probs['X']+self.probs['O']==0:\n",
    "                self.collapsed='-'\n",
    "            elif self.probs['X']==1:\n",
    "                self.collapsed='X'\n",
    "            elif self.probs['O']==1:\n",
    "                self.collapsed='O'\n",
    "            else:\n",
    "                montecarlo=np.random.uniform(low=0.0, high=1.0, size=None)\n",
    "                if montecarlo<self.probs['X']:\n",
    "                    self.collapsed='X'\n",
    "                else:\n",
    "                    self.collapsed='O'\n",
    "\n",
    "    def __str__(self):\n",
    "        if self.collapsed==None:\n",
    "            return f\"X: {self.coefs['X']}, O: {self.coefs['O']}\"\n",
    "        else:\n",
    "            return self.collapsed\n"
   ]
  },
  {
   "cell_type": "code",
   "execution_count": 293,
   "id": "f2ad7ee1-55b0-46ba-a195-f7e64be6d139",
   "metadata": {},
   "outputs": [
    {
     "name": "stdout",
     "output_type": "stream",
     "text": [
      "X: 0, O: 0\n",
      "X: 0, O: 0\n",
      "X: 0, O: 0\n",
      "X: 0, O: 0\n",
      "X: 0, O: 1\n",
      "X: sqrt(2)/2, O: sqrt(2)/2\n",
      "X: sqrt(2)/2, O: sqrt(2)/2\n"
     ]
    }
   ],
   "source": [
    "turn1=TurnClass()\n",
    "state_ct=State(9,9)\n",
    "print(state_ct)\n",
    "\n",
    "#state_ct.move(turn1)\n",
    "print(state_ct)\n",
    "turn1.switch()\n",
    "#state_ct.move(turn1)\n",
    "print(state_ct)\n",
    "turn1.switch()\n",
    "#state_ct.move(turn1)\n",
    "print(state_ct)\n",
    "turn1.switch()\n",
    "state_ct.move(turn1)\n",
    "print(state_ct)\n",
    "turn1.switch()\n",
    "state_ct.move(turn1)\n",
    "print(state_ct)\n",
    "turn1.switch()\n",
    "#state_ct.move(turn1)\n",
    "print(state_ct)\n",
    "turn1.switch()"
   ]
  },
  {
   "cell_type": "code",
   "execution_count": 294,
   "id": "46a97b89-bf16-4585-a4dd-8974a5ec56a7",
   "metadata": {},
   "outputs": [],
   "source": [
    "state_ct.collapse()"
   ]
  },
  {
   "cell_type": "code",
   "execution_count": 295,
   "id": "ca95e5ca-7c96-4ba1-b537-3ab0a993df3c",
   "metadata": {},
   "outputs": [
    {
     "name": "stdout",
     "output_type": "stream",
     "text": [
      "X\n"
     ]
    }
   ],
   "source": [
    "print(state_ct)"
   ]
  },
  {
   "cell_type": "markdown",
   "id": "ee34c1eb-13ab-4f87-91e1-c4f40130d143",
   "metadata": {
    "jp-MarkdownHeadingCollapsed": true
   },
   "source": [
    "# Gameplay and Collapse test"
   ]
  },
  {
   "cell_type": "code",
   "execution_count": 298,
   "id": "ae32f20d-6357-4884-aa81-23f1d4d27150",
   "metadata": {},
   "outputs": [],
   "source": [
    "# Classes and Functions definition:\n",
    "class TurnClass:\n",
    "    def __init__(self, xstart=True):\n",
    "        if xstart:\n",
    "            self.player='X'\n",
    "            self.inactive='O'\n",
    "        else:\n",
    "            self.player='O'\n",
    "            self.inactive='X'\n",
    "    def switch(self):\n",
    "        self.player,self.inactive=self.inactive,self.player\n",
    "\n",
    "\n",
    "class State:\n",
    "    def __init__(self, i,j):\n",
    "        self.i=i\n",
    "        self.j=j\n",
    "        self.probs= {'X':0,'O':0}\n",
    "        self.coefs= {'X':0,'O':0}\n",
    "        self.on= False\n",
    "        self.collapsed = None\n",
    "        \n",
    "    def move(self,turn,w_model='half_pow'):\n",
    "        if w_model=='half_pow':\n",
    "            if self.probs[turn.player] == 0:\n",
    "                if self.probs[turn.inactive] == 0:\n",
    "                    self.probs[turn.player] = 1\n",
    "                else:\n",
    "                    self.probs={'X':sp.Rational(1/2),'O':sp.Rational(1/2)}\n",
    "            else:\n",
    "                ## hay que agregar otro if para programar la jugada invalida (cuando ya tienes prob 1 y vuelves a seleccionar la casilla)\n",
    "                ## ya no es necesario, magicamente el algoritmo lo soluciona por si solo, pero por si acaso mejor dejar el comentario en caso algo salga mal\n",
    "                if self.probs[turn.player]>=self.probs[turn.inactive]:\n",
    "                    self.probs[turn.inactive]=sp.Rational(self.probs[turn.inactive]/2)\n",
    "                    self.probs[turn.player] = 1 -  self.probs[turn.inactive]\n",
    "                else:\n",
    "                    self.probs[turn.player]=sp.Rational(self.probs[turn.player]*2)\n",
    "                    self.probs[turn.inactive] = 1 -  self.probs[turn.player]\n",
    "                    \n",
    "            self.coefs[turn.player]=sp.sqrt(self.probs[turn.player])\n",
    "            self.coefs[turn.inactive]=sp.sqrt(self.probs[turn.inactive])\n",
    "            \n",
    "    def collapse(self):\n",
    "        if self.collapsed==None:\n",
    "            if self.probs['X']+self.probs['O']==0:\n",
    "                self.collapsed='-'\n",
    "            elif self.probs['X']==1:\n",
    "                self.collapsed='X'\n",
    "            elif self.probs['O']==1:\n",
    "                self.collapsed='O'\n",
    "            else:\n",
    "                montecarlo=np.random.uniform(low=0.0, high=1.0, size=None)\n",
    "                if montecarlo<self.probs['X']:\n",
    "                    self.collapsed='X'\n",
    "                else:\n",
    "                    self.collapsed='O'\n",
    "\n",
    "    def __str__(self):\n",
    "        if self.collapsed==None:\n",
    "            return f\"X: {self.coefs['X']}, O: {self.coefs['O']}\"\n",
    "        else:\n",
    "            return self.collapsed\n",
    "\n",
    "def input_position(moves_log, turn, last=1):\n",
    "    while True:\n",
    "        pos_string= input('row,col: ')\n",
    "        if pos_string == '-':\n",
    "            position = None\n",
    "            break\n",
    "        position=eval(f'[{pos_string}]') #no es a prueba de weones\n",
    "        position=[i-1 for i in position]\n",
    "        if position in moves_log[-1*last:]:\n",
    "            print('Invalid move')\n",
    "        elif grid[*position].probs[turn.player]==1:\n",
    "            print('Invalid move')\n",
    "        else:\n",
    "            break\n",
    "    return position\n",
    "        \n"
   ]
  },
  {
   "cell_type": "code",
   "execution_count": 299,
   "id": "48033d07-804f-44fd-bcd2-e4cfa27bde2a",
   "metadata": {},
   "outputs": [],
   "source": [
    "# Rules\n",
    "last_no=1\n",
    "model='half_pow'\n",
    "max_turns=26\n",
    "x_start=True\n",
    "\n",
    "# Grid Initialization\n",
    "state00=State(0,0)\n",
    "state01=State(0,1)\n",
    "state02=State(0,2)\n",
    "state10=State(1,0)\n",
    "state11=State(1,1)\n",
    "state12=State(1,2)\n",
    "state20=State(2,0)\n",
    "state21=State(2,1)\n",
    "state22=State(2,2)\n",
    "grid=np.array([[state00,state01,state02],[state10,state11,state12],[state20,state21,state22]])\n",
    "grid_probs=np.array([[state00.probs,state01.probs,state02.probs],[state10.probs,state11.probs,state12.probs],[state20.probs,state21.probs,state22.probs]])\n",
    "grid_coefs=np.array([[state00.coefs,state01.coefs,state02.coefs],[state10.coefs,state11.coefs,state12.coefs],[state20.coefs,state21.coefs,state22.coefs]])\n",
    "# Turn Initialization\n",
    "turn=TurnClass(xstart=x_start)\n",
    "# Moves Log Initialization\n",
    "moves_log=[]"
   ]
  },
  {
   "cell_type": "code",
   "execution_count": 300,
   "id": "d32fa1c9-de92-4320-a9ef-2c0654f9f4b0",
   "metadata": {},
   "outputs": [
    {
     "name": "stdout",
     "output_type": "stream",
     "text": [
      "Game Started\n",
      "[[{'X': 0, 'O': 0} {'X': 0, 'O': 0} {'X': 0, 'O': 0}]\n",
      " [{'X': 0, 'O': 0} {'X': 0, 'O': 0} {'X': 0, 'O': 0}]\n",
      " [{'X': 0, 'O': 0} {'X': 0, 'O': 0} {'X': 0, 'O': 0}]]\n",
      "\n",
      "it's X turn\n"
     ]
    },
    {
     "name": "stdin",
     "output_type": "stream",
     "text": [
      "row,col:  0,0\n"
     ]
    },
    {
     "name": "stdout",
     "output_type": "stream",
     "text": [
      "[[{'X': 1, 'O': 0} {'X': 0, 'O': 0} {'X': 0, 'O': 0}]\n",
      " [{'X': 0, 'O': 0} {'X': 0, 'O': 0} {'X': 0, 'O': 0}]\n",
      " [{'X': 0, 'O': 0} {'X': 0, 'O': 0} {'X': 0, 'O': 0}]]\n",
      "\n",
      "it's O turn\n"
     ]
    },
    {
     "name": "stdin",
     "output_type": "stream",
     "text": [
      "row,col:  1,1\n"
     ]
    },
    {
     "name": "stdout",
     "output_type": "stream",
     "text": [
      "[[{'X': 1, 'O': 0} {'X': 0, 'O': 0} {'X': 0, 'O': 0}]\n",
      " [{'X': 0, 'O': 0} {'X': 0, 'O': 1} {'X': 0, 'O': 0}]\n",
      " [{'X': 0, 'O': 0} {'X': 0, 'O': 0} {'X': 0, 'O': 0}]]\n",
      "\n",
      "it's X turn\n"
     ]
    },
    {
     "name": "stdin",
     "output_type": "stream",
     "text": [
      "row,col:  1,1\n"
     ]
    },
    {
     "name": "stdout",
     "output_type": "stream",
     "text": [
      "Invalid move\n"
     ]
    },
    {
     "name": "stdin",
     "output_type": "stream",
     "text": [
      "row,col:  1,2\n"
     ]
    },
    {
     "name": "stdout",
     "output_type": "stream",
     "text": [
      "[[{'X': 1, 'O': 0} {'X': 0, 'O': 0} {'X': 0, 'O': 0}]\n",
      " [{'X': 0, 'O': 0} {'X': 0, 'O': 1} {'X': 1, 'O': 0}]\n",
      " [{'X': 0, 'O': 0} {'X': 0, 'O': 0} {'X': 0, 'O': 0}]]\n",
      "\n",
      "it's O turn\n"
     ]
    },
    {
     "name": "stdin",
     "output_type": "stream",
     "text": [
      "row,col:  0,0\n"
     ]
    },
    {
     "name": "stdout",
     "output_type": "stream",
     "text": [
      "[[{'X': sqrt(2)/2, 'O': sqrt(2)/2} {'X': 0, 'O': 0} {'X': 0, 'O': 0}]\n",
      " [{'X': 0, 'O': 0} {'X': 0, 'O': 1} {'X': 1, 'O': 0}]\n",
      " [{'X': 0, 'O': 0} {'X': 0, 'O': 0} {'X': 0, 'O': 0}]]\n",
      "\n",
      "it's X turn\n"
     ]
    },
    {
     "name": "stdin",
     "output_type": "stream",
     "text": [
      "row,col:  0,2\n"
     ]
    },
    {
     "name": "stdout",
     "output_type": "stream",
     "text": [
      "[[{'X': sqrt(2)/2, 'O': sqrt(2)/2} {'X': 0, 'O': 0} {'X': 1, 'O': 0}]\n",
      " [{'X': 0, 'O': 0} {'X': 0, 'O': 1} {'X': 1, 'O': 0}]\n",
      " [{'X': 0, 'O': 0} {'X': 0, 'O': 0} {'X': 0, 'O': 0}]]\n",
      "\n",
      "it's O turn\n"
     ]
    },
    {
     "name": "stdin",
     "output_type": "stream",
     "text": [
      "row,col:  2,2\n"
     ]
    },
    {
     "name": "stdout",
     "output_type": "stream",
     "text": [
      "[[{'X': sqrt(2)/2, 'O': sqrt(2)/2} {'X': 0, 'O': 0} {'X': 1, 'O': 0}]\n",
      " [{'X': 0, 'O': 0} {'X': 0, 'O': 1} {'X': 1, 'O': 0}]\n",
      " [{'X': 0, 'O': 0} {'X': 0, 'O': 0} {'X': 0, 'O': 1}]]\n",
      "\n",
      "it's X turn\n"
     ]
    },
    {
     "name": "stdin",
     "output_type": "stream",
     "text": [
      "row,col:  -\n"
     ]
    },
    {
     "name": "stdout",
     "output_type": "stream",
     "text": [
      "Wave Function Collapse\n",
      "[['O' '-' 'X']\n",
      " ['-' 'O' 'X']\n",
      " ['-' '-' 'O']]\n"
     ]
    }
   ],
   "source": [
    "# Game\n",
    "print('Game Started')\n",
    "print(grid_coefs)\n",
    "\n",
    "for _ in range(max_turns):\n",
    "    print(f'\\nit\\'s {turn.player} turn')\n",
    "    position=input_position(moves_log, turn, last=last_no)\n",
    "    if position==None:\n",
    "        break\n",
    "    grid[*position].move(turn,w_model=model)\n",
    "    moves_log.append(position)\n",
    "    grid_probs=np.array([[state00.probs,state01.probs,state02.probs],[state10.probs,state11.probs,state12.probs],[state20.probs,state21.probs,state22.probs]])\n",
    "    grid_coefs=np.array([[state00.coefs,state01.coefs,state02.coefs],[state10.coefs,state11.coefs,state12.coefs],[state20.coefs,state21.coefs,state22.coefs]])\n",
    "    print(grid_coefs)\n",
    "    turn.switch()\n",
    "\n",
    "print(\"Wave Function Collapse\")\n",
    "# Collapse\n",
    "for j in range(3):\n",
    "    for i in range(3):\n",
    "        grid[i,j].collapse()\n",
    "\n",
    "grid_collapsed=np.array([[state00.collapsed,state01.collapsed,state02.collapsed],[state10.collapsed,state11.collapsed,state12.collapsed],[state20.collapsed,state21.collapsed,state22.collapsed]])\n",
    "print(grid_collapsed)"
   ]
  },
  {
   "cell_type": "markdown",
   "id": "7caf61ec-3033-43c2-9552-53a343b2761f",
   "metadata": {
    "jp-MarkdownHeadingCollapsed": true
   },
   "source": [
    "# Winner Test"
   ]
  },
  {
   "cell_type": "code",
   "execution_count": 317,
   "id": "e6b9ee7a-2b58-4319-8499-10cd12158cd6",
   "metadata": {},
   "outputs": [],
   "source": [
    "def check_winners(grid):\n",
    "    Xwins=0\n",
    "    Owins=0\n",
    "    # Check rows\n",
    "    for i in range(3):\n",
    "        row=grid[i,:]\n",
    "        if np.all(row=='X'):\n",
    "            Xwins+=1\n",
    "        elif np.all(row=='O'):\n",
    "            Owins+=1 \n",
    "    # Check rows\n",
    "    for j in range(3):\n",
    "        col=grid[:,j]\n",
    "        if np.all(col=='X'):\n",
    "            Xwins+=1\n",
    "        elif np.all(col=='O'):\n",
    "            Owins+=1 \n",
    "    # Check diagonals\n",
    "    diagonal=grid.diagonal()\n",
    "    antidiagonal=np.fliplr(grid).diagonal()\n",
    "    if np.all(diagonal=='X'):\n",
    "        Xwins+=1\n",
    "    elif np.all(diagonal=='O'):\n",
    "        Owins+=1 \n",
    "    if np.all(antidiagonal=='X'):\n",
    "        Xwins+=1\n",
    "    elif np.all(antidiagonal=='O'):\n",
    "        Owins+=1 \n",
    "    winner_state=State(None,None)\n",
    "    if (Xwins+Owins)==0:\n",
    "        pass\n",
    "    else:\n",
    "        winner_state.probs= {'X':sp.Rational(Xwins,Xwins+Owins),'O':sp.Rational(Owins,Xwins+Owins)}\n",
    "        winner_state.coefs= {'X':sp.sqrt(sp.Rational(Xwins,Xwins+Owins)),'O':sp.sqrt(sp.Rational(Owins,Xwins+Owins))}\n",
    "    return winner_state\n",
    "        \n",
    "        "
   ]
  },
  {
   "cell_type": "code",
   "execution_count": 305,
   "id": "e9e54c7d-0db2-48ad-a7e8-cb1be8d108dc",
   "metadata": {},
   "outputs": [
    {
     "data": {
      "text/plain": [
       "array([['O', '-', 'X'],\n",
       "       ['-', 'O', 'X'],\n",
       "       ['-', '-', 'O']], dtype='<U1')"
      ]
     },
     "execution_count": 305,
     "metadata": {},
     "output_type": "execute_result"
    }
   ],
   "source": [
    "t=np.array([['O' ,'-' ,'X'],['-', 'O', 'X'], ['-', '-', 'O']])\n",
    "t"
   ]
  },
  {
   "cell_type": "code",
   "execution_count": 333,
   "id": "2165251b-e502-4d4b-a504-27a8036c8d42",
   "metadata": {},
   "outputs": [
    {
     "data": {
      "text/plain": [
       "'O'"
      ]
     },
     "execution_count": 333,
     "metadata": {},
     "output_type": "execute_result"
    }
   ],
   "source": [
    "winner_state=check_winners(t)\n",
    "winner_state.collapse()\n",
    "winner_state.collapsed"
   ]
  },
  {
   "cell_type": "markdown",
   "id": "deac997b-88bd-44b3-8d28-caa31e20a640",
   "metadata": {
    "jp-MarkdownHeadingCollapsed": true
   },
   "source": [
    "# Full Game Test"
   ]
  },
  {
   "cell_type": "code",
   "execution_count": null,
   "id": "18d3c2ca-9bc4-4b8d-bc8d-ae2a8133f052",
   "metadata": {},
   "outputs": [
    {
     "name": "stdout",
     "output_type": "stream",
     "text": [
      "Game Started\n",
      "[[{'X': 0, 'O': 0} {'X': 0, 'O': 0} {'X': 0, 'O': 0}]\n",
      " [{'X': 0, 'O': 0} {'X': 0, 'O': 0} {'X': 0, 'O': 0}]\n",
      " [{'X': 0, 'O': 0} {'X': 0, 'O': 0} {'X': 0, 'O': 0}]]\n",
      "\n",
      "it's X turn (1/14)\n"
     ]
    }
   ],
   "source": [
    "# Classes and Functions definition:\n",
    "class TurnClass:\n",
    "    def __init__(self, xstart=True):\n",
    "        if xstart:\n",
    "            self.player='X'\n",
    "            self.inactive='O'\n",
    "        else:\n",
    "            self.player='O'\n",
    "            self.inactive='X'\n",
    "    def switch(self):\n",
    "        self.player,self.inactive=self.inactive,self.player\n",
    "\n",
    "\n",
    "class State:\n",
    "    def __init__(self, i,j):\n",
    "        self.i=i\n",
    "        self.j=j\n",
    "        self.probs= {'X':0,'O':0}\n",
    "        self.coefs= {'X':0,'O':0}\n",
    "        self.on= False\n",
    "        self.collapsed = None\n",
    "        \n",
    "    def move(self,turn,w_model='half_pow'):\n",
    "        if w_model=='half_pow':\n",
    "            if self.probs[turn.player] == 0:\n",
    "                if self.probs[turn.inactive] == 0:\n",
    "                    self.probs[turn.player] = 1\n",
    "                else:\n",
    "                    self.probs={'X':sp.Rational(1/2),'O':sp.Rational(1/2)}\n",
    "            else:\n",
    "                ## hay que agregar otro if para programar la jugada invalida (cuando ya tienes prob 1 y vuelves a seleccionar la casilla)\n",
    "                ## ya no es necesario, magicamente el algoritmo lo soluciona por si solo, pero por si acaso mejor dejar el comentario en caso algo salga mal\n",
    "                if self.probs[turn.player]>=self.probs[turn.inactive]:\n",
    "                    self.probs[turn.inactive]=sp.Rational(self.probs[turn.inactive]/2)\n",
    "                    self.probs[turn.player] = 1 -  self.probs[turn.inactive]\n",
    "                else:\n",
    "                    self.probs[turn.player]=sp.Rational(self.probs[turn.player]*2)\n",
    "                    self.probs[turn.inactive] = 1 -  self.probs[turn.player]\n",
    "                    \n",
    "            self.coefs[turn.player]=sp.sqrt(self.probs[turn.player])\n",
    "            self.coefs[turn.inactive]=sp.sqrt(self.probs[turn.inactive])\n",
    "            \n",
    "    def collapse(self):\n",
    "        if self.collapsed==None:\n",
    "            if self.probs['X']+self.probs['O']==0:\n",
    "                self.collapsed='-'\n",
    "            elif self.probs['X']==1:\n",
    "                self.collapsed='X'\n",
    "            elif self.probs['O']==1:\n",
    "                self.collapsed='O'\n",
    "            else:\n",
    "                montecarlo=np.random.uniform(low=0.0, high=1.0, size=None)\n",
    "                if montecarlo<self.probs['X']:\n",
    "                    self.collapsed='X'\n",
    "                else:\n",
    "                    self.collapsed='O'\n",
    "\n",
    "    def __str__(self):\n",
    "        if self.collapsed==None:\n",
    "            return f\"X: {self.coefs['X']}, O: {self.coefs['O']}\"\n",
    "        else:\n",
    "            return self.collapsed\n",
    "\n",
    "def input_position(moves_log, turn, last=1):\n",
    "    while True:\n",
    "        pos_string= input('row,col: ')\n",
    "        if pos_string == '-':\n",
    "            position = None\n",
    "            break\n",
    "        try:\n",
    "            position=eval(f'[{pos_string}]') #no es a prueba de weones\n",
    "            position=[i-1 for i in position]\n",
    "            if position in moves_log[-1*last:]:\n",
    "                print('Invalid move')\n",
    "            elif grid[*position].probs[turn.player]==1:\n",
    "                print('Invalid move')\n",
    "            else:\n",
    "                break\n",
    "        except:\n",
    "            print('Invalid input')\n",
    "            pass\n",
    "    return position\n",
    "        \n",
    "def check_winners(grid):\n",
    "    Xwins=0\n",
    "    Owins=0\n",
    "    # Check rows\n",
    "    for i in range(3):\n",
    "        row=grid[i,:]\n",
    "        if np.all(row=='X'):\n",
    "            Xwins+=1\n",
    "        elif np.all(row=='O'):\n",
    "            Owins+=1 \n",
    "    # Check rows\n",
    "    for j in range(3):\n",
    "        col=grid[:,j]\n",
    "        if np.all(col=='X'):\n",
    "            Xwins+=1\n",
    "        elif np.all(col=='O'):\n",
    "            Owins+=1 \n",
    "    # Check diagonals\n",
    "    diagonal=grid.diagonal()\n",
    "    antidiagonal=np.fliplr(grid).diagonal()\n",
    "    if np.all(diagonal=='X'):\n",
    "        Xwins+=1\n",
    "    elif np.all(diagonal=='O'):\n",
    "        Owins+=1 \n",
    "    if np.all(antidiagonal=='X'):\n",
    "        Xwins+=1\n",
    "    elif np.all(antidiagonal=='O'):\n",
    "        Owins+=1 \n",
    "    winner_state=State(None,None)\n",
    "    if (Xwins+Owins)==0:\n",
    "        pass\n",
    "    else:\n",
    "        winner_state.probs= {'X':sp.Rational(Xwins,Xwins+Owins),'O':sp.Rational(Owins,Xwins+Owins)}\n",
    "        winner_state.coefs= {'X':sp.sqrt(sp.Rational(Xwins,Xwins+Owins)),'O':sp.sqrt(sp.Rational(Owins,Xwins+Owins))}\n",
    "    return winner_state\n",
    "\n",
    "# Rules\n",
    "last_no=1\n",
    "model='half_pow'\n",
    "max_turns=14\n",
    "x_start=True\n",
    "\n",
    "# Grid Initialization\n",
    "state00=State(0,0)\n",
    "state01=State(0,1)\n",
    "state02=State(0,2)\n",
    "state10=State(1,0)\n",
    "state11=State(1,1)\n",
    "state12=State(1,2)\n",
    "state20=State(2,0)\n",
    "state21=State(2,1)\n",
    "state22=State(2,2)\n",
    "grid=np.array([[state00,state01,state02],[state10,state11,state12],[state20,state21,state22]])\n",
    "grid_probs=np.array([[state00.probs,state01.probs,state02.probs],[state10.probs,state11.probs,state12.probs],[state20.probs,state21.probs,state22.probs]])\n",
    "grid_coefs=np.array([[state00.coefs,state01.coefs,state02.coefs],[state10.coefs,state11.coefs,state12.coefs],[state20.coefs,state21.coefs,state22.coefs]])\n",
    "# Turn Initialization\n",
    "turn=TurnClass(xstart=x_start)\n",
    "# Moves Log Initialization\n",
    "moves_log=[]\n",
    "\n",
    "# Game\n",
    "print('Game Started')\n",
    "print(grid_coefs)\n",
    "\n",
    "for turn_nr in range(max_turns):\n",
    "    left=turn_nr+1\n",
    "    print(f'\\nit\\'s {turn.player} turn ({left}/{max_turns})')\n",
    "    position=input_position(moves_log, turn, last=last_no)\n",
    "    if position==None:\n",
    "        break\n",
    "    grid[*position].move(turn,w_model=model)\n",
    "    moves_log.append(position)\n",
    "    grid_probs=np.array([[state00.probs,state01.probs,state02.probs],[state10.probs,state11.probs,state12.probs],[state20.probs,state21.probs,state22.probs]])\n",
    "    grid_coefs=np.array([[state00.coefs,state01.coefs,state02.coefs],[state10.coefs,state11.coefs,state12.coefs],[state20.coefs,state21.coefs,state22.coefs]])\n",
    "    print(grid_coefs)\n",
    "    turn.switch()\n",
    "\n",
    "print(\"Wave Function Collapse\")\n",
    "# Collapse\n",
    "for j in range(3):\n",
    "    for i in range(3):\n",
    "        grid[i,j].collapse()\n",
    "\n",
    "grid_collapsed=np.array([[state00.collapsed,state01.collapsed,state02.collapsed],[state10.collapsed,state11.collapsed,state12.collapsed],[state20.collapsed,state21.collapsed,state22.collapsed]])\n",
    "print(grid_collapsed)\n",
    "\n",
    "winner_state=check_winners(grid_collapsed)\n",
    "print(f'Winner state is {winner_state.coefs}')\n",
    "winner_state.collapse()\n",
    "print(f'After collapse, {winner_state.collapsed} won')"
   ]
  },
  {
   "cell_type": "markdown",
   "id": "a1084490-f2ef-48b3-b40c-295db4fce4a5",
   "metadata": {
    "jp-MarkdownHeadingCollapsed": true
   },
   "source": [
    "# UI test"
   ]
  },
  {
   "cell_type": "code",
   "execution_count": 15,
   "id": "fa00d110-a490-4891-9629-6fb2c0882f05",
   "metadata": {
    "scrolled": true
   },
   "outputs": [
    {
     "name": "stdout",
     "output_type": "stream",
     "text": [
      "Wave Function Collapse\n"
     ]
    }
   ],
   "source": [
    "import pygame\n",
    "import matplotlib.pyplot as plt\n",
    "from matplotlib.backends.backend_agg import FigureCanvasAgg as FigureCanvas\n",
    "import numpy as np\n",
    "import sympy as sp\n",
    "import tempfile\n",
    "import os\n",
    "\n",
    "\n",
    "# Definición de Clases y Funciones\n",
    "class TurnClass:\n",
    "    def __init__(self, xstart=True):\n",
    "        if xstart:\n",
    "            self.player = 'X'\n",
    "            self.inactive = 'O'\n",
    "        else:\n",
    "            self.player = 'O'\n",
    "            self.inactive = 'X'\n",
    "    def switch(self):\n",
    "        self.player, self.inactive = self.inactive, self.player\n",
    "\n",
    "class State:\n",
    "    def __init__(self, i, j):\n",
    "        self.i = i\n",
    "        self.j = j\n",
    "        self.probs = {'X': 0, 'O': 0}\n",
    "        self.coefs = {'X': 0, 'O': 0}\n",
    "        self.on = False\n",
    "        self.collapsed = None\n",
    "        \n",
    "    def move(self, turn, w_model='half_pow'):\n",
    "        if w_model == 'half_pow':\n",
    "            if self.probs[turn.player] == 0:\n",
    "                if self.probs[turn.inactive] == 0:\n",
    "                    self.probs[turn.player] = 1\n",
    "                else:\n",
    "                    self.probs = {'X': sp.Rational(1/2), 'O': sp.Rational(1/2)}\n",
    "            else:\n",
    "                if self.probs[turn.player] >= self.probs[turn.inactive]:\n",
    "                    self.probs[turn.inactive] = sp.Rational(self.probs[turn.inactive]/2)\n",
    "                    self.probs[turn.player] = 1 - self.probs[turn.inactive]\n",
    "                else:\n",
    "                    self.probs[turn.player] = sp.Rational(self.probs[turn.player]*2)\n",
    "                    self.probs[turn.inactive] = 1 - self.probs[turn.player]\n",
    "                    \n",
    "            self.coefs[turn.player] = sp.sqrt(self.probs[turn.player])\n",
    "            self.coefs[turn.inactive] = sp.sqrt(self.probs[turn.inactive])\n",
    "            \n",
    "    def collapse(self):\n",
    "        if self.collapsed == None:\n",
    "            if self.probs['X'] + self.probs['O'] == 0:\n",
    "                self.collapsed = '-'\n",
    "            elif self.probs['X'] == 1:\n",
    "                self.collapsed = 'X'\n",
    "            elif self.probs['O'] == 1:\n",
    "                self.collapsed = 'O'\n",
    "            else:\n",
    "                montecarlo = np.random.uniform(low=0.0, high=1.0, size=None)\n",
    "                if montecarlo < self.probs['X']:\n",
    "                    self.collapsed = 'X'\n",
    "                else:\n",
    "                    self.collapsed = 'O'\n",
    "\n",
    "    def __str__(self):\n",
    "        if self.collapsed == None:\n",
    "            return f\"X: {self.coefs['X']}, O: {self.coefs['O']}\"\n",
    "        else:\n",
    "            return self.collapsed\n",
    "\n",
    "def check_winners(grid):\n",
    "    Xwins = 0\n",
    "    Owins = 0\n",
    "    # Check rows\n",
    "    for i in range(3):\n",
    "        row = grid[i, :]\n",
    "        if np.all(row == 'X'):\n",
    "            Xwins += 1\n",
    "        elif np.all(row == 'O'):\n",
    "            Owins += 1 \n",
    "    # Check columns\n",
    "    for j in range(3):\n",
    "        col = grid[:, j]\n",
    "        if np.all(col == 'X'):\n",
    "            Xwins += 1\n",
    "        elif np.all(col == 'O'):\n",
    "            Owins += 1 \n",
    "    # Check diagonals\n",
    "    diagonal = grid.diagonal()\n",
    "    antidiagonal = np.fliplr(grid).diagonal()\n",
    "    if np.all(diagonal == 'X'):\n",
    "        Xwins += 1\n",
    "    elif np.all(diagonal == 'O'):\n",
    "        Owins += 1 \n",
    "    if np.all(antidiagonal == 'X'):\n",
    "        Xwins += 1\n",
    "    elif np.all(antidiagonal == 'O'):\n",
    "        Owins += 1 \n",
    "    winner_state = State(None, None)\n",
    "    \n",
    "    if Owins==Xwins:\n",
    "        return 'Tie'\n",
    "    if Owins<Xwins:\n",
    "        return 'X won!'\n",
    "    if Owins>Xwins:\n",
    "        return 'O won!'\n",
    "\n",
    "# Configuración de Pygame\n",
    "pygame.init()\n",
    "\n",
    "# Dimensiones de la ventana\n",
    "WIDTH, HEIGHT = 600, 600\n",
    "WIN = pygame.display.set_mode((WIDTH, HEIGHT))\n",
    "pygame.display.set_caption(\"Quantum Tic-Tac-Toe\")\n",
    "\n",
    "# Colores\n",
    "WHITE = (255, 255, 255)\n",
    "BLACK = (0, 0, 0)\n",
    "RED = (255, 0, 0)\n",
    "BLUE = (0, 0, 255)\n",
    "\n",
    "# Dimensiones de la cuadrícula\n",
    "GRID_SIZE = 3\n",
    "CELL_SIZE = WIDTH // GRID_SIZE\n",
    "\n",
    "# Fuentes\n",
    "FONT = pygame.font.SysFont(\"comicsans\", 40)\n",
    "\n",
    "def render_latex_to_image(expression,colors, fontsize=15, dpi=100):\n",
    "    fig, ax = plt.subplots(figsize=(1, 1), dpi=dpi)\n",
    "    x_index=0\n",
    "    xpos=0\n",
    "    for ket,col in zip(expression,colors):\n",
    "        text_obj=ax.text(xpos, 0, f\"${ket}$\",color=col, fontsize=fontsize, ha='left', va='center')\n",
    "        bbox = text_obj.get_window_extent()  # Obtiene el bbox en puntos de pantalla\n",
    "        text_width = bbox.width / dpi  # Convierte a pulgadas\n",
    "        xpos += (text_width+0.2)\n",
    "    ax.axis('off')  # Oculta los ejes\n",
    "\n",
    "    with tempfile.NamedTemporaryFile(suffix=\".png\", delete=False) as tmpfile:\n",
    "        fig.savefig(tmpfile.name, bbox_inches='tight', pad_inches=0, transparent=True)\n",
    "        plt.close(fig)\n",
    "        return tmpfile.name\n",
    "        \n",
    "def draw_turn(turn):\n",
    "    turn_text = f\"Turn: {turn.player}\"\n",
    "    text = FONT.render(turn_text, 1, BLACK)\n",
    "    WIN.blit(text, (WIDTH // 2 - text.get_width() // 2, 5))\n",
    "    \n",
    "def draw_winner(winner):\n",
    "    winner_text = f\"{winner}\"\n",
    "    text = FONT.render(winner_text, 1, BLACK)\n",
    "    WIN.blit(text, (WIDTH // 2 - text.get_width() // 2, 10))\n",
    "\n",
    "def draw_grid():\n",
    "    WIN.fill(WHITE)\n",
    "    for x in range(1, GRID_SIZE):\n",
    "        pygame.draw.line(WIN, BLACK, (x * CELL_SIZE, 0), (x * CELL_SIZE, HEIGHT), 3)\n",
    "        pygame.draw.line(WIN, BLACK, (0, x * CELL_SIZE), (WIDTH, x * CELL_SIZE), 3)\n",
    "\n",
    "def draw_state(grid):\n",
    "    for i in range(GRID_SIZE):\n",
    "        for j in range(GRID_SIZE):\n",
    "            state = grid[i, j]\n",
    "            if state.collapsed:\n",
    "                text = FONT.render(state.collapsed, 1, RED if state.collapsed == 'X' else BLUE)\n",
    "                WIN.blit(text, (j * CELL_SIZE + CELL_SIZE // 3, i * CELL_SIZE + CELL_SIZE // 4))\n",
    "            else:\n",
    "                # Generar la expresión LaTeX solo con los kets con coeficientes no nulos\n",
    "                expression = []\n",
    "                colors=[]\n",
    "                \n",
    "                if state.coefs['X'] != 0:\n",
    "                    expression.append(f\"{sp.latex(state.coefs['X'])}|X\\\\rangle\")\n",
    "                    colors.append('red')\n",
    "                if state.coefs['O'] != 0:\n",
    "                    expression.append(f\"{sp.latex(state.coefs['O'])}|O\\\\rangle\")\n",
    "                    colors.append('blue')\n",
    "                if state.coefs['O'] != 0 and state.coefs['X'] != 0:\n",
    "                    expression.insert(1,' + ')\n",
    "                    colors.insert(1,'black')\n",
    "\n",
    "                if expression:  # Si hay algo que mostrar\n",
    "                    img_path = render_latex_to_image(expression,colors, fontsize=20)\n",
    "                    img = pygame.image.load(img_path)\n",
    "                    WIN.blit(img, (j * CELL_SIZE + 10, i * CELL_SIZE + 20))\n",
    "                    os.remove(img_path)\n",
    "\n",
    "\n",
    "\n",
    "def main():\n",
    "    run = True\n",
    "    clock = pygame.time.Clock()\n",
    "\n",
    "    # Inicialización de Grid y Turno\n",
    "    state00 = State(0, 0)\n",
    "    state01 = State(0, 1)\n",
    "    state02 = State(0, 2)\n",
    "    state10 = State(1, 0)\n",
    "    state11 = State(1, 1)\n",
    "    state12 = State(1, 2)\n",
    "    state20 = State(2, 0)\n",
    "    state21 = State(2, 1)\n",
    "    state22 = State(2, 2)\n",
    "    grid = np.array([[state00, state01, state02], [state10, state11, state12], [state20, state21, state22]])\n",
    "\n",
    "    turn = TurnClass(xstart=True)\n",
    "    moves_log = []\n",
    "    max_turns = 14\n",
    "    draw_turn(turn)\n",
    "    pygame.display.update()\n",
    "    while run and len(moves_log) < max_turns:\n",
    "        clock.tick(60)\n",
    "            \n",
    "        for event in pygame.event.get():\n",
    "            if event.type == pygame.QUIT:\n",
    "                run = False\n",
    "                pygame.quit()\n",
    "\n",
    "                \n",
    "            if event.type == pygame.MOUSEBUTTONDOWN:\n",
    "                pos = pygame.mouse.get_pos()\n",
    "                col = pos[0] // CELL_SIZE\n",
    "                row = pos[1] // CELL_SIZE\n",
    "\n",
    "                if grid[row, col].collapsed is None and grid[row, col].probs[turn.player] < 1:\n",
    "                    grid[row, col].move(turn)\n",
    "                    moves_log.append([row, col])\n",
    "                    turn.switch()\n",
    "        if len(moves_log) < max_turns:\n",
    "            draw_grid()\n",
    "            draw_state(grid)\n",
    "            draw_turn(turn)\n",
    "            pygame.display.update()\n",
    "        else:\n",
    "            break\n",
    "    pygame.time.wait(500)\n",
    "    print(\"Wave Function Collapse\")\n",
    "    for i in range(3):\n",
    "        for j in range(3):\n",
    "            grid[i, j].collapse()\n",
    "            draw_grid()\n",
    "            draw_state(grid)\n",
    "            pygame.display.update()\n",
    "            pygame.time.wait(500)\n",
    "\n",
    "    grid_collapsed=np.array([[state00.collapsed,state01.collapsed,state02.collapsed],[state10.collapsed,state11.collapsed,state12.collapsed],[state20.collapsed,state21.collapsed,state22.collapsed]])\n",
    "\n",
    "    winner = check_winners(grid_collapsed)\n",
    "    \n",
    "    draw_winner(winner)\n",
    "    pygame.display.update()\n",
    "\n",
    "    # Espera para mostrar el resultado final\n",
    "    pygame.time.wait(6000)\n",
    "\n",
    "    pygame.quit()\n",
    "\n",
    "\n",
    "\n",
    "main()"
   ]
  },
  {
   "cell_type": "code",
   "execution_count": 4,
   "id": "8be7e730-84f1-4c6a-b35c-2745239e6729",
   "metadata": {},
   "outputs": [
    {
     "data": {
      "text/plain": [
       "'1 + 2'"
      ]
     },
     "execution_count": 4,
     "metadata": {},
     "output_type": "execute_result"
    }
   ],
   "source": []
  },
  {
   "cell_type": "code",
   "execution_count": 7,
   "id": "29a83c4b-a732-445c-9dda-42dd6c06cdb9",
   "metadata": {},
   "outputs": [
    {
     "data": {
      "text/plain": [
       "{'X': 0, 'O': 0}"
      ]
     },
     "execution_count": 7,
     "metadata": {},
     "output_type": "execute_result"
    }
   ],
   "source": [
    "w_s.probs"
   ]
  },
  {
   "cell_type": "code",
   "execution_count": 4,
   "id": "c98cfe3b-36aa-4edd-9bb0-6c70f3b42c7e",
   "metadata": {},
   "outputs": [
    {
     "ename": "RuntimeError",
     "evalue": "Failed to process string with tex because latex could not be found",
     "output_type": "error",
     "traceback": [
      "\u001b[1;31m---------------------------------------------------------------------------\u001b[0m",
      "\u001b[1;31mFileNotFoundError\u001b[0m                         Traceback (most recent call last)",
      "File \u001b[1;32m~\\anaconda3\\Lib\\site-packages\\matplotlib\\texmanager.py:250\u001b[0m, in \u001b[0;36mTexManager._run_checked_subprocess\u001b[1;34m(cls, command, tex, cwd)\u001b[0m\n\u001b[0;32m    249\u001b[0m \u001b[38;5;28;01mtry\u001b[39;00m:\n\u001b[1;32m--> 250\u001b[0m     report \u001b[38;5;241m=\u001b[39m subprocess\u001b[38;5;241m.\u001b[39mcheck_output(\n\u001b[0;32m    251\u001b[0m         command, cwd\u001b[38;5;241m=\u001b[39mcwd \u001b[38;5;28;01mif\u001b[39;00m cwd \u001b[38;5;129;01mis\u001b[39;00m \u001b[38;5;129;01mnot\u001b[39;00m \u001b[38;5;28;01mNone\u001b[39;00m \u001b[38;5;28;01melse\u001b[39;00m \u001b[38;5;28mcls\u001b[39m\u001b[38;5;241m.\u001b[39m_texcache,\n\u001b[0;32m    252\u001b[0m         stderr\u001b[38;5;241m=\u001b[39msubprocess\u001b[38;5;241m.\u001b[39mSTDOUT)\n\u001b[0;32m    253\u001b[0m \u001b[38;5;28;01mexcept\u001b[39;00m \u001b[38;5;167;01mFileNotFoundError\u001b[39;00m \u001b[38;5;28;01mas\u001b[39;00m exc:\n",
      "File \u001b[1;32m~\\anaconda3\\Lib\\subprocess.py:466\u001b[0m, in \u001b[0;36mcheck_output\u001b[1;34m(timeout, *popenargs, **kwargs)\u001b[0m\n\u001b[0;32m    464\u001b[0m     kwargs[\u001b[38;5;124m'\u001b[39m\u001b[38;5;124minput\u001b[39m\u001b[38;5;124m'\u001b[39m] \u001b[38;5;241m=\u001b[39m empty\n\u001b[1;32m--> 466\u001b[0m \u001b[38;5;28;01mreturn\u001b[39;00m run(\u001b[38;5;241m*\u001b[39mpopenargs, stdout\u001b[38;5;241m=\u001b[39mPIPE, timeout\u001b[38;5;241m=\u001b[39mtimeout, check\u001b[38;5;241m=\u001b[39m\u001b[38;5;28;01mTrue\u001b[39;00m,\n\u001b[0;32m    467\u001b[0m            \u001b[38;5;241m*\u001b[39m\u001b[38;5;241m*\u001b[39mkwargs)\u001b[38;5;241m.\u001b[39mstdout\n",
      "File \u001b[1;32m~\\anaconda3\\Lib\\subprocess.py:548\u001b[0m, in \u001b[0;36mrun\u001b[1;34m(input, capture_output, timeout, check, *popenargs, **kwargs)\u001b[0m\n\u001b[0;32m    546\u001b[0m     kwargs[\u001b[38;5;124m'\u001b[39m\u001b[38;5;124mstderr\u001b[39m\u001b[38;5;124m'\u001b[39m] \u001b[38;5;241m=\u001b[39m PIPE\n\u001b[1;32m--> 548\u001b[0m \u001b[38;5;28;01mwith\u001b[39;00m Popen(\u001b[38;5;241m*\u001b[39mpopenargs, \u001b[38;5;241m*\u001b[39m\u001b[38;5;241m*\u001b[39mkwargs) \u001b[38;5;28;01mas\u001b[39;00m process:\n\u001b[0;32m    549\u001b[0m     \u001b[38;5;28;01mtry\u001b[39;00m:\n",
      "File \u001b[1;32m~\\anaconda3\\Lib\\subprocess.py:1026\u001b[0m, in \u001b[0;36mPopen.__init__\u001b[1;34m(self, args, bufsize, executable, stdin, stdout, stderr, preexec_fn, close_fds, shell, cwd, env, universal_newlines, startupinfo, creationflags, restore_signals, start_new_session, pass_fds, user, group, extra_groups, encoding, errors, text, umask, pipesize, process_group)\u001b[0m\n\u001b[0;32m   1023\u001b[0m             \u001b[38;5;28mself\u001b[39m\u001b[38;5;241m.\u001b[39mstderr \u001b[38;5;241m=\u001b[39m io\u001b[38;5;241m.\u001b[39mTextIOWrapper(\u001b[38;5;28mself\u001b[39m\u001b[38;5;241m.\u001b[39mstderr,\n\u001b[0;32m   1024\u001b[0m                     encoding\u001b[38;5;241m=\u001b[39mencoding, errors\u001b[38;5;241m=\u001b[39merrors)\n\u001b[1;32m-> 1026\u001b[0m     \u001b[38;5;28mself\u001b[39m\u001b[38;5;241m.\u001b[39m_execute_child(args, executable, preexec_fn, close_fds,\n\u001b[0;32m   1027\u001b[0m                         pass_fds, cwd, env,\n\u001b[0;32m   1028\u001b[0m                         startupinfo, creationflags, shell,\n\u001b[0;32m   1029\u001b[0m                         p2cread, p2cwrite,\n\u001b[0;32m   1030\u001b[0m                         c2pread, c2pwrite,\n\u001b[0;32m   1031\u001b[0m                         errread, errwrite,\n\u001b[0;32m   1032\u001b[0m                         restore_signals,\n\u001b[0;32m   1033\u001b[0m                         gid, gids, uid, umask,\n\u001b[0;32m   1034\u001b[0m                         start_new_session, process_group)\n\u001b[0;32m   1035\u001b[0m \u001b[38;5;28;01mexcept\u001b[39;00m:\n\u001b[0;32m   1036\u001b[0m     \u001b[38;5;66;03m# Cleanup if the child failed starting.\u001b[39;00m\n",
      "File \u001b[1;32m~\\anaconda3\\Lib\\subprocess.py:1538\u001b[0m, in \u001b[0;36mPopen._execute_child\u001b[1;34m(self, args, executable, preexec_fn, close_fds, pass_fds, cwd, env, startupinfo, creationflags, shell, p2cread, p2cwrite, c2pread, c2pwrite, errread, errwrite, unused_restore_signals, unused_gid, unused_gids, unused_uid, unused_umask, unused_start_new_session, unused_process_group)\u001b[0m\n\u001b[0;32m   1537\u001b[0m \u001b[38;5;28;01mtry\u001b[39;00m:\n\u001b[1;32m-> 1538\u001b[0m     hp, ht, pid, tid \u001b[38;5;241m=\u001b[39m _winapi\u001b[38;5;241m.\u001b[39mCreateProcess(executable, args,\n\u001b[0;32m   1539\u001b[0m                              \u001b[38;5;66;03m# no special security\u001b[39;00m\n\u001b[0;32m   1540\u001b[0m                              \u001b[38;5;28;01mNone\u001b[39;00m, \u001b[38;5;28;01mNone\u001b[39;00m,\n\u001b[0;32m   1541\u001b[0m                              \u001b[38;5;28mint\u001b[39m(\u001b[38;5;129;01mnot\u001b[39;00m close_fds),\n\u001b[0;32m   1542\u001b[0m                              creationflags,\n\u001b[0;32m   1543\u001b[0m                              env,\n\u001b[0;32m   1544\u001b[0m                              cwd,\n\u001b[0;32m   1545\u001b[0m                              startupinfo)\n\u001b[0;32m   1546\u001b[0m \u001b[38;5;28;01mfinally\u001b[39;00m:\n\u001b[0;32m   1547\u001b[0m     \u001b[38;5;66;03m# Child is launched. Close the parent's copy of those pipe\u001b[39;00m\n\u001b[0;32m   1548\u001b[0m     \u001b[38;5;66;03m# handles that only the child should have open.  You need\u001b[39;00m\n\u001b[1;32m   (...)\u001b[0m\n\u001b[0;32m   1551\u001b[0m     \u001b[38;5;66;03m# pipe will not close when the child process exits and the\u001b[39;00m\n\u001b[0;32m   1552\u001b[0m     \u001b[38;5;66;03m# ReadFile will hang.\u001b[39;00m\n",
      "\u001b[1;31mFileNotFoundError\u001b[0m: [WinError 2] El sistema no puede encontrar el archivo especificado",
      "\nThe above exception was the direct cause of the following exception:\n",
      "\u001b[1;31mRuntimeError\u001b[0m                              Traceback (most recent call last)",
      "File \u001b[1;32m~\\anaconda3\\Lib\\site-packages\\IPython\\core\\formatters.py:340\u001b[0m, in \u001b[0;36mBaseFormatter.__call__\u001b[1;34m(self, obj)\u001b[0m\n\u001b[0;32m    338\u001b[0m     \u001b[38;5;28;01mpass\u001b[39;00m\n\u001b[0;32m    339\u001b[0m \u001b[38;5;28;01melse\u001b[39;00m:\n\u001b[1;32m--> 340\u001b[0m     \u001b[38;5;28;01mreturn\u001b[39;00m printer(obj)\n\u001b[0;32m    341\u001b[0m \u001b[38;5;66;03m# Finally look for special method names\u001b[39;00m\n\u001b[0;32m    342\u001b[0m method \u001b[38;5;241m=\u001b[39m get_real_method(obj, \u001b[38;5;28mself\u001b[39m\u001b[38;5;241m.\u001b[39mprint_method)\n",
      "File \u001b[1;32m~\\anaconda3\\Lib\\site-packages\\IPython\\core\\pylabtools.py:152\u001b[0m, in \u001b[0;36mprint_figure\u001b[1;34m(fig, fmt, bbox_inches, base64, **kwargs)\u001b[0m\n\u001b[0;32m    149\u001b[0m     \u001b[38;5;28;01mfrom\u001b[39;00m \u001b[38;5;21;01mmatplotlib\u001b[39;00m\u001b[38;5;21;01m.\u001b[39;00m\u001b[38;5;21;01mbackend_bases\u001b[39;00m \u001b[38;5;28;01mimport\u001b[39;00m FigureCanvasBase\n\u001b[0;32m    150\u001b[0m     FigureCanvasBase(fig)\n\u001b[1;32m--> 152\u001b[0m fig\u001b[38;5;241m.\u001b[39mcanvas\u001b[38;5;241m.\u001b[39mprint_figure(bytes_io, \u001b[38;5;241m*\u001b[39m\u001b[38;5;241m*\u001b[39mkw)\n\u001b[0;32m    153\u001b[0m data \u001b[38;5;241m=\u001b[39m bytes_io\u001b[38;5;241m.\u001b[39mgetvalue()\n\u001b[0;32m    154\u001b[0m \u001b[38;5;28;01mif\u001b[39;00m fmt \u001b[38;5;241m==\u001b[39m \u001b[38;5;124m'\u001b[39m\u001b[38;5;124msvg\u001b[39m\u001b[38;5;124m'\u001b[39m:\n",
      "File \u001b[1;32m~\\anaconda3\\Lib\\site-packages\\matplotlib\\backend_bases.py:2164\u001b[0m, in \u001b[0;36mFigureCanvasBase.print_figure\u001b[1;34m(self, filename, dpi, facecolor, edgecolor, orientation, format, bbox_inches, pad_inches, bbox_extra_artists, backend, **kwargs)\u001b[0m\n\u001b[0;32m   2161\u001b[0m     \u001b[38;5;66;03m# we do this instead of `self.figure.draw_without_rendering`\u001b[39;00m\n\u001b[0;32m   2162\u001b[0m     \u001b[38;5;66;03m# so that we can inject the orientation\u001b[39;00m\n\u001b[0;32m   2163\u001b[0m     \u001b[38;5;28;01mwith\u001b[39;00m \u001b[38;5;28mgetattr\u001b[39m(renderer, \u001b[38;5;124m\"\u001b[39m\u001b[38;5;124m_draw_disabled\u001b[39m\u001b[38;5;124m\"\u001b[39m, nullcontext)():\n\u001b[1;32m-> 2164\u001b[0m         \u001b[38;5;28mself\u001b[39m\u001b[38;5;241m.\u001b[39mfigure\u001b[38;5;241m.\u001b[39mdraw(renderer)\n\u001b[0;32m   2165\u001b[0m \u001b[38;5;28;01mif\u001b[39;00m bbox_inches:\n\u001b[0;32m   2166\u001b[0m     \u001b[38;5;28;01mif\u001b[39;00m bbox_inches \u001b[38;5;241m==\u001b[39m \u001b[38;5;124m\"\u001b[39m\u001b[38;5;124mtight\u001b[39m\u001b[38;5;124m\"\u001b[39m:\n",
      "File \u001b[1;32m~\\anaconda3\\Lib\\site-packages\\matplotlib\\artist.py:95\u001b[0m, in \u001b[0;36m_finalize_rasterization.<locals>.draw_wrapper\u001b[1;34m(artist, renderer, *args, **kwargs)\u001b[0m\n\u001b[0;32m     93\u001b[0m \u001b[38;5;129m@wraps\u001b[39m(draw)\n\u001b[0;32m     94\u001b[0m \u001b[38;5;28;01mdef\u001b[39;00m \u001b[38;5;21mdraw_wrapper\u001b[39m(artist, renderer, \u001b[38;5;241m*\u001b[39margs, \u001b[38;5;241m*\u001b[39m\u001b[38;5;241m*\u001b[39mkwargs):\n\u001b[1;32m---> 95\u001b[0m     result \u001b[38;5;241m=\u001b[39m draw(artist, renderer, \u001b[38;5;241m*\u001b[39margs, \u001b[38;5;241m*\u001b[39m\u001b[38;5;241m*\u001b[39mkwargs)\n\u001b[0;32m     96\u001b[0m     \u001b[38;5;28;01mif\u001b[39;00m renderer\u001b[38;5;241m.\u001b[39m_rasterizing:\n\u001b[0;32m     97\u001b[0m         renderer\u001b[38;5;241m.\u001b[39mstop_rasterizing()\n",
      "File \u001b[1;32m~\\anaconda3\\Lib\\site-packages\\matplotlib\\artist.py:72\u001b[0m, in \u001b[0;36mallow_rasterization.<locals>.draw_wrapper\u001b[1;34m(artist, renderer)\u001b[0m\n\u001b[0;32m     69\u001b[0m     \u001b[38;5;28;01mif\u001b[39;00m artist\u001b[38;5;241m.\u001b[39mget_agg_filter() \u001b[38;5;129;01mis\u001b[39;00m \u001b[38;5;129;01mnot\u001b[39;00m \u001b[38;5;28;01mNone\u001b[39;00m:\n\u001b[0;32m     70\u001b[0m         renderer\u001b[38;5;241m.\u001b[39mstart_filter()\n\u001b[1;32m---> 72\u001b[0m     \u001b[38;5;28;01mreturn\u001b[39;00m draw(artist, renderer)\n\u001b[0;32m     73\u001b[0m \u001b[38;5;28;01mfinally\u001b[39;00m:\n\u001b[0;32m     74\u001b[0m     \u001b[38;5;28;01mif\u001b[39;00m artist\u001b[38;5;241m.\u001b[39mget_agg_filter() \u001b[38;5;129;01mis\u001b[39;00m \u001b[38;5;129;01mnot\u001b[39;00m \u001b[38;5;28;01mNone\u001b[39;00m:\n",
      "File \u001b[1;32m~\\anaconda3\\Lib\\site-packages\\matplotlib\\figure.py:3154\u001b[0m, in \u001b[0;36mFigure.draw\u001b[1;34m(self, renderer)\u001b[0m\n\u001b[0;32m   3151\u001b[0m         \u001b[38;5;66;03m# ValueError can occur when resizing a window.\u001b[39;00m\n\u001b[0;32m   3153\u001b[0m \u001b[38;5;28mself\u001b[39m\u001b[38;5;241m.\u001b[39mpatch\u001b[38;5;241m.\u001b[39mdraw(renderer)\n\u001b[1;32m-> 3154\u001b[0m mimage\u001b[38;5;241m.\u001b[39m_draw_list_compositing_images(\n\u001b[0;32m   3155\u001b[0m     renderer, \u001b[38;5;28mself\u001b[39m, artists, \u001b[38;5;28mself\u001b[39m\u001b[38;5;241m.\u001b[39msuppressComposite)\n\u001b[0;32m   3157\u001b[0m \u001b[38;5;28;01mfor\u001b[39;00m sfig \u001b[38;5;129;01min\u001b[39;00m \u001b[38;5;28mself\u001b[39m\u001b[38;5;241m.\u001b[39msubfigs:\n\u001b[0;32m   3158\u001b[0m     sfig\u001b[38;5;241m.\u001b[39mdraw(renderer)\n",
      "File \u001b[1;32m~\\anaconda3\\Lib\\site-packages\\matplotlib\\image.py:132\u001b[0m, in \u001b[0;36m_draw_list_compositing_images\u001b[1;34m(renderer, parent, artists, suppress_composite)\u001b[0m\n\u001b[0;32m    130\u001b[0m \u001b[38;5;28;01mif\u001b[39;00m not_composite \u001b[38;5;129;01mor\u001b[39;00m \u001b[38;5;129;01mnot\u001b[39;00m has_images:\n\u001b[0;32m    131\u001b[0m     \u001b[38;5;28;01mfor\u001b[39;00m a \u001b[38;5;129;01min\u001b[39;00m artists:\n\u001b[1;32m--> 132\u001b[0m         a\u001b[38;5;241m.\u001b[39mdraw(renderer)\n\u001b[0;32m    133\u001b[0m \u001b[38;5;28;01melse\u001b[39;00m:\n\u001b[0;32m    134\u001b[0m     \u001b[38;5;66;03m# Composite any adjacent images together\u001b[39;00m\n\u001b[0;32m    135\u001b[0m     image_group \u001b[38;5;241m=\u001b[39m []\n",
      "File \u001b[1;32m~\\anaconda3\\Lib\\site-packages\\matplotlib\\artist.py:72\u001b[0m, in \u001b[0;36mallow_rasterization.<locals>.draw_wrapper\u001b[1;34m(artist, renderer)\u001b[0m\n\u001b[0;32m     69\u001b[0m     \u001b[38;5;28;01mif\u001b[39;00m artist\u001b[38;5;241m.\u001b[39mget_agg_filter() \u001b[38;5;129;01mis\u001b[39;00m \u001b[38;5;129;01mnot\u001b[39;00m \u001b[38;5;28;01mNone\u001b[39;00m:\n\u001b[0;32m     70\u001b[0m         renderer\u001b[38;5;241m.\u001b[39mstart_filter()\n\u001b[1;32m---> 72\u001b[0m     \u001b[38;5;28;01mreturn\u001b[39;00m draw(artist, renderer)\n\u001b[0;32m     73\u001b[0m \u001b[38;5;28;01mfinally\u001b[39;00m:\n\u001b[0;32m     74\u001b[0m     \u001b[38;5;28;01mif\u001b[39;00m artist\u001b[38;5;241m.\u001b[39mget_agg_filter() \u001b[38;5;129;01mis\u001b[39;00m \u001b[38;5;129;01mnot\u001b[39;00m \u001b[38;5;28;01mNone\u001b[39;00m:\n",
      "File \u001b[1;32m~\\anaconda3\\Lib\\site-packages\\matplotlib\\axes\\_base.py:3070\u001b[0m, in \u001b[0;36m_AxesBase.draw\u001b[1;34m(self, renderer)\u001b[0m\n\u001b[0;32m   3067\u001b[0m \u001b[38;5;28;01mif\u001b[39;00m artists_rasterized:\n\u001b[0;32m   3068\u001b[0m     _draw_rasterized(\u001b[38;5;28mself\u001b[39m\u001b[38;5;241m.\u001b[39mfigure, artists_rasterized, renderer)\n\u001b[1;32m-> 3070\u001b[0m mimage\u001b[38;5;241m.\u001b[39m_draw_list_compositing_images(\n\u001b[0;32m   3071\u001b[0m     renderer, \u001b[38;5;28mself\u001b[39m, artists, \u001b[38;5;28mself\u001b[39m\u001b[38;5;241m.\u001b[39mfigure\u001b[38;5;241m.\u001b[39msuppressComposite)\n\u001b[0;32m   3073\u001b[0m renderer\u001b[38;5;241m.\u001b[39mclose_group(\u001b[38;5;124m'\u001b[39m\u001b[38;5;124maxes\u001b[39m\u001b[38;5;124m'\u001b[39m)\n\u001b[0;32m   3074\u001b[0m \u001b[38;5;28mself\u001b[39m\u001b[38;5;241m.\u001b[39mstale \u001b[38;5;241m=\u001b[39m \u001b[38;5;28;01mFalse\u001b[39;00m\n",
      "File \u001b[1;32m~\\anaconda3\\Lib\\site-packages\\matplotlib\\image.py:132\u001b[0m, in \u001b[0;36m_draw_list_compositing_images\u001b[1;34m(renderer, parent, artists, suppress_composite)\u001b[0m\n\u001b[0;32m    130\u001b[0m \u001b[38;5;28;01mif\u001b[39;00m not_composite \u001b[38;5;129;01mor\u001b[39;00m \u001b[38;5;129;01mnot\u001b[39;00m has_images:\n\u001b[0;32m    131\u001b[0m     \u001b[38;5;28;01mfor\u001b[39;00m a \u001b[38;5;129;01min\u001b[39;00m artists:\n\u001b[1;32m--> 132\u001b[0m         a\u001b[38;5;241m.\u001b[39mdraw(renderer)\n\u001b[0;32m    133\u001b[0m \u001b[38;5;28;01melse\u001b[39;00m:\n\u001b[0;32m    134\u001b[0m     \u001b[38;5;66;03m# Composite any adjacent images together\u001b[39;00m\n\u001b[0;32m    135\u001b[0m     image_group \u001b[38;5;241m=\u001b[39m []\n",
      "File \u001b[1;32m~\\anaconda3\\Lib\\site-packages\\matplotlib\\artist.py:72\u001b[0m, in \u001b[0;36mallow_rasterization.<locals>.draw_wrapper\u001b[1;34m(artist, renderer)\u001b[0m\n\u001b[0;32m     69\u001b[0m     \u001b[38;5;28;01mif\u001b[39;00m artist\u001b[38;5;241m.\u001b[39mget_agg_filter() \u001b[38;5;129;01mis\u001b[39;00m \u001b[38;5;129;01mnot\u001b[39;00m \u001b[38;5;28;01mNone\u001b[39;00m:\n\u001b[0;32m     70\u001b[0m         renderer\u001b[38;5;241m.\u001b[39mstart_filter()\n\u001b[1;32m---> 72\u001b[0m     \u001b[38;5;28;01mreturn\u001b[39;00m draw(artist, renderer)\n\u001b[0;32m     73\u001b[0m \u001b[38;5;28;01mfinally\u001b[39;00m:\n\u001b[0;32m     74\u001b[0m     \u001b[38;5;28;01mif\u001b[39;00m artist\u001b[38;5;241m.\u001b[39mget_agg_filter() \u001b[38;5;129;01mis\u001b[39;00m \u001b[38;5;129;01mnot\u001b[39;00m \u001b[38;5;28;01mNone\u001b[39;00m:\n",
      "File \u001b[1;32m~\\anaconda3\\Lib\\site-packages\\matplotlib\\text.py:748\u001b[0m, in \u001b[0;36mText.draw\u001b[1;34m(self, renderer)\u001b[0m\n\u001b[0;32m    745\u001b[0m renderer\u001b[38;5;241m.\u001b[39mopen_group(\u001b[38;5;124m'\u001b[39m\u001b[38;5;124mtext\u001b[39m\u001b[38;5;124m'\u001b[39m, \u001b[38;5;28mself\u001b[39m\u001b[38;5;241m.\u001b[39mget_gid())\n\u001b[0;32m    747\u001b[0m \u001b[38;5;28;01mwith\u001b[39;00m \u001b[38;5;28mself\u001b[39m\u001b[38;5;241m.\u001b[39m_cm_set(text\u001b[38;5;241m=\u001b[39m\u001b[38;5;28mself\u001b[39m\u001b[38;5;241m.\u001b[39m_get_wrapped_text()):\n\u001b[1;32m--> 748\u001b[0m     bbox, info, descent \u001b[38;5;241m=\u001b[39m \u001b[38;5;28mself\u001b[39m\u001b[38;5;241m.\u001b[39m_get_layout(renderer)\n\u001b[0;32m    749\u001b[0m     trans \u001b[38;5;241m=\u001b[39m \u001b[38;5;28mself\u001b[39m\u001b[38;5;241m.\u001b[39mget_transform()\n\u001b[0;32m    751\u001b[0m     \u001b[38;5;66;03m# don't use self.get_position here, which refers to text\u001b[39;00m\n\u001b[0;32m    752\u001b[0m     \u001b[38;5;66;03m# position in Text:\u001b[39;00m\n",
      "File \u001b[1;32m~\\anaconda3\\Lib\\site-packages\\matplotlib\\text.py:373\u001b[0m, in \u001b[0;36mText._get_layout\u001b[1;34m(self, renderer)\u001b[0m\n\u001b[0;32m    370\u001b[0m ys \u001b[38;5;241m=\u001b[39m []\n\u001b[0;32m    372\u001b[0m \u001b[38;5;66;03m# Full vertical extent of font, including ascenders and descenders:\u001b[39;00m\n\u001b[1;32m--> 373\u001b[0m _, lp_h, lp_d \u001b[38;5;241m=\u001b[39m _get_text_metrics_with_cache(\n\u001b[0;32m    374\u001b[0m     renderer, \u001b[38;5;124m\"\u001b[39m\u001b[38;5;124mlp\u001b[39m\u001b[38;5;124m\"\u001b[39m, \u001b[38;5;28mself\u001b[39m\u001b[38;5;241m.\u001b[39m_fontproperties,\n\u001b[0;32m    375\u001b[0m     ismath\u001b[38;5;241m=\u001b[39m\u001b[38;5;124m\"\u001b[39m\u001b[38;5;124mTeX\u001b[39m\u001b[38;5;124m\"\u001b[39m \u001b[38;5;28;01mif\u001b[39;00m \u001b[38;5;28mself\u001b[39m\u001b[38;5;241m.\u001b[39mget_usetex() \u001b[38;5;28;01melse\u001b[39;00m \u001b[38;5;28;01mFalse\u001b[39;00m, dpi\u001b[38;5;241m=\u001b[39m\u001b[38;5;28mself\u001b[39m\u001b[38;5;241m.\u001b[39mfigure\u001b[38;5;241m.\u001b[39mdpi)\n\u001b[0;32m    376\u001b[0m min_dy \u001b[38;5;241m=\u001b[39m (lp_h \u001b[38;5;241m-\u001b[39m lp_d) \u001b[38;5;241m*\u001b[39m \u001b[38;5;28mself\u001b[39m\u001b[38;5;241m.\u001b[39m_linespacing\n\u001b[0;32m    378\u001b[0m \u001b[38;5;28;01mfor\u001b[39;00m i, line \u001b[38;5;129;01min\u001b[39;00m \u001b[38;5;28menumerate\u001b[39m(lines):\n",
      "File \u001b[1;32m~\\anaconda3\\Lib\\site-packages\\matplotlib\\text.py:69\u001b[0m, in \u001b[0;36m_get_text_metrics_with_cache\u001b[1;34m(renderer, text, fontprop, ismath, dpi)\u001b[0m\n\u001b[0;32m     66\u001b[0m \u001b[38;5;250m\u001b[39m\u001b[38;5;124;03m\"\"\"Call ``renderer.get_text_width_height_descent``, caching the results.\"\"\"\u001b[39;00m\n\u001b[0;32m     67\u001b[0m \u001b[38;5;66;03m# Cached based on a copy of fontprop so that later in-place mutations of\u001b[39;00m\n\u001b[0;32m     68\u001b[0m \u001b[38;5;66;03m# the passed-in argument do not mess up the cache.\u001b[39;00m\n\u001b[1;32m---> 69\u001b[0m \u001b[38;5;28;01mreturn\u001b[39;00m _get_text_metrics_with_cache_impl(\n\u001b[0;32m     70\u001b[0m     weakref\u001b[38;5;241m.\u001b[39mref(renderer), text, fontprop\u001b[38;5;241m.\u001b[39mcopy(), ismath, dpi)\n",
      "File \u001b[1;32m~\\anaconda3\\Lib\\site-packages\\matplotlib\\text.py:77\u001b[0m, in \u001b[0;36m_get_text_metrics_with_cache_impl\u001b[1;34m(renderer_ref, text, fontprop, ismath, dpi)\u001b[0m\n\u001b[0;32m     73\u001b[0m \u001b[38;5;129m@functools\u001b[39m\u001b[38;5;241m.\u001b[39mlru_cache(\u001b[38;5;241m4096\u001b[39m)\n\u001b[0;32m     74\u001b[0m \u001b[38;5;28;01mdef\u001b[39;00m \u001b[38;5;21m_get_text_metrics_with_cache_impl\u001b[39m(\n\u001b[0;32m     75\u001b[0m         renderer_ref, text, fontprop, ismath, dpi):\n\u001b[0;32m     76\u001b[0m     \u001b[38;5;66;03m# dpi is unused, but participates in cache invalidation (via the renderer).\u001b[39;00m\n\u001b[1;32m---> 77\u001b[0m     \u001b[38;5;28;01mreturn\u001b[39;00m renderer_ref()\u001b[38;5;241m.\u001b[39mget_text_width_height_descent(text, fontprop, ismath)\n",
      "File \u001b[1;32m~\\anaconda3\\Lib\\site-packages\\matplotlib\\backends\\backend_agg.py:213\u001b[0m, in \u001b[0;36mRendererAgg.get_text_width_height_descent\u001b[1;34m(self, s, prop, ismath)\u001b[0m\n\u001b[0;32m    211\u001b[0m _api\u001b[38;5;241m.\u001b[39mcheck_in_list([\u001b[38;5;124m\"\u001b[39m\u001b[38;5;124mTeX\u001b[39m\u001b[38;5;124m\"\u001b[39m, \u001b[38;5;28;01mTrue\u001b[39;00m, \u001b[38;5;28;01mFalse\u001b[39;00m], ismath\u001b[38;5;241m=\u001b[39mismath)\n\u001b[0;32m    212\u001b[0m \u001b[38;5;28;01mif\u001b[39;00m ismath \u001b[38;5;241m==\u001b[39m \u001b[38;5;124m\"\u001b[39m\u001b[38;5;124mTeX\u001b[39m\u001b[38;5;124m\"\u001b[39m:\n\u001b[1;32m--> 213\u001b[0m     \u001b[38;5;28;01mreturn\u001b[39;00m \u001b[38;5;28msuper\u001b[39m()\u001b[38;5;241m.\u001b[39mget_text_width_height_descent(s, prop, ismath)\n\u001b[0;32m    215\u001b[0m \u001b[38;5;28;01mif\u001b[39;00m ismath:\n\u001b[0;32m    216\u001b[0m     ox, oy, width, height, descent, font_image \u001b[38;5;241m=\u001b[39m \\\n\u001b[0;32m    217\u001b[0m         \u001b[38;5;28mself\u001b[39m\u001b[38;5;241m.\u001b[39mmathtext_parser\u001b[38;5;241m.\u001b[39mparse(s, \u001b[38;5;28mself\u001b[39m\u001b[38;5;241m.\u001b[39mdpi, prop)\n",
      "File \u001b[1;32m~\\anaconda3\\Lib\\site-packages\\matplotlib\\backend_bases.py:652\u001b[0m, in \u001b[0;36mRendererBase.get_text_width_height_descent\u001b[1;34m(self, s, prop, ismath)\u001b[0m\n\u001b[0;32m    648\u001b[0m fontsize \u001b[38;5;241m=\u001b[39m prop\u001b[38;5;241m.\u001b[39mget_size_in_points()\n\u001b[0;32m    650\u001b[0m \u001b[38;5;28;01mif\u001b[39;00m ismath \u001b[38;5;241m==\u001b[39m \u001b[38;5;124m'\u001b[39m\u001b[38;5;124mTeX\u001b[39m\u001b[38;5;124m'\u001b[39m:\n\u001b[0;32m    651\u001b[0m     \u001b[38;5;66;03m# todo: handle properties\u001b[39;00m\n\u001b[1;32m--> 652\u001b[0m     \u001b[38;5;28;01mreturn\u001b[39;00m \u001b[38;5;28mself\u001b[39m\u001b[38;5;241m.\u001b[39mget_texmanager()\u001b[38;5;241m.\u001b[39mget_text_width_height_descent(\n\u001b[0;32m    653\u001b[0m         s, fontsize, renderer\u001b[38;5;241m=\u001b[39m\u001b[38;5;28mself\u001b[39m)\n\u001b[0;32m    655\u001b[0m dpi \u001b[38;5;241m=\u001b[39m \u001b[38;5;28mself\u001b[39m\u001b[38;5;241m.\u001b[39mpoints_to_pixels(\u001b[38;5;241m72\u001b[39m)\n\u001b[0;32m    656\u001b[0m \u001b[38;5;28;01mif\u001b[39;00m ismath:\n",
      "File \u001b[1;32m~\\anaconda3\\Lib\\site-packages\\matplotlib\\texmanager.py:363\u001b[0m, in \u001b[0;36mTexManager.get_text_width_height_descent\u001b[1;34m(cls, tex, fontsize, renderer)\u001b[0m\n\u001b[0;32m    361\u001b[0m \u001b[38;5;28;01mif\u001b[39;00m tex\u001b[38;5;241m.\u001b[39mstrip() \u001b[38;5;241m==\u001b[39m \u001b[38;5;124m'\u001b[39m\u001b[38;5;124m'\u001b[39m:\n\u001b[0;32m    362\u001b[0m     \u001b[38;5;28;01mreturn\u001b[39;00m \u001b[38;5;241m0\u001b[39m, \u001b[38;5;241m0\u001b[39m, \u001b[38;5;241m0\u001b[39m\n\u001b[1;32m--> 363\u001b[0m dvifile \u001b[38;5;241m=\u001b[39m \u001b[38;5;28mcls\u001b[39m\u001b[38;5;241m.\u001b[39mmake_dvi(tex, fontsize)\n\u001b[0;32m    364\u001b[0m dpi_fraction \u001b[38;5;241m=\u001b[39m renderer\u001b[38;5;241m.\u001b[39mpoints_to_pixels(\u001b[38;5;241m1.\u001b[39m) \u001b[38;5;28;01mif\u001b[39;00m renderer \u001b[38;5;28;01melse\u001b[39;00m \u001b[38;5;241m1\u001b[39m\n\u001b[0;32m    365\u001b[0m \u001b[38;5;28;01mwith\u001b[39;00m dviread\u001b[38;5;241m.\u001b[39mDvi(dvifile, \u001b[38;5;241m72\u001b[39m \u001b[38;5;241m*\u001b[39m dpi_fraction) \u001b[38;5;28;01mas\u001b[39;00m dvi:\n",
      "File \u001b[1;32m~\\anaconda3\\Lib\\site-packages\\matplotlib\\texmanager.py:295\u001b[0m, in \u001b[0;36mTexManager.make_dvi\u001b[1;34m(cls, tex, fontsize)\u001b[0m\n\u001b[0;32m    293\u001b[0m     \u001b[38;5;28;01mwith\u001b[39;00m TemporaryDirectory(\u001b[38;5;28mdir\u001b[39m\u001b[38;5;241m=\u001b[39mcwd) \u001b[38;5;28;01mas\u001b[39;00m tmpdir:\n\u001b[0;32m    294\u001b[0m         tmppath \u001b[38;5;241m=\u001b[39m Path(tmpdir)\n\u001b[1;32m--> 295\u001b[0m         \u001b[38;5;28mcls\u001b[39m\u001b[38;5;241m.\u001b[39m_run_checked_subprocess(\n\u001b[0;32m    296\u001b[0m             [\u001b[38;5;124m\"\u001b[39m\u001b[38;5;124mlatex\u001b[39m\u001b[38;5;124m\"\u001b[39m, \u001b[38;5;124m\"\u001b[39m\u001b[38;5;124m-interaction=nonstopmode\u001b[39m\u001b[38;5;124m\"\u001b[39m, \u001b[38;5;124m\"\u001b[39m\u001b[38;5;124m--halt-on-error\u001b[39m\u001b[38;5;124m\"\u001b[39m,\n\u001b[0;32m    297\u001b[0m              \u001b[38;5;124mf\u001b[39m\u001b[38;5;124m\"\u001b[39m\u001b[38;5;124m--output-directory=\u001b[39m\u001b[38;5;132;01m{\u001b[39;00mtmppath\u001b[38;5;241m.\u001b[39mname\u001b[38;5;132;01m}\u001b[39;00m\u001b[38;5;124m\"\u001b[39m,\n\u001b[0;32m    298\u001b[0m              \u001b[38;5;124mf\u001b[39m\u001b[38;5;124m\"\u001b[39m\u001b[38;5;132;01m{\u001b[39;00mtexfile\u001b[38;5;241m.\u001b[39mname\u001b[38;5;132;01m}\u001b[39;00m\u001b[38;5;124m\"\u001b[39m], tex, cwd\u001b[38;5;241m=\u001b[39mcwd)\n\u001b[0;32m    299\u001b[0m         (tmppath \u001b[38;5;241m/\u001b[39m Path(dvifile)\u001b[38;5;241m.\u001b[39mname)\u001b[38;5;241m.\u001b[39mreplace(dvifile)\n\u001b[0;32m    300\u001b[0m \u001b[38;5;28;01mreturn\u001b[39;00m dvifile\n",
      "File \u001b[1;32m~\\anaconda3\\Lib\\site-packages\\matplotlib\\texmanager.py:254\u001b[0m, in \u001b[0;36mTexManager._run_checked_subprocess\u001b[1;34m(cls, command, tex, cwd)\u001b[0m\n\u001b[0;32m    250\u001b[0m     report \u001b[38;5;241m=\u001b[39m subprocess\u001b[38;5;241m.\u001b[39mcheck_output(\n\u001b[0;32m    251\u001b[0m         command, cwd\u001b[38;5;241m=\u001b[39mcwd \u001b[38;5;28;01mif\u001b[39;00m cwd \u001b[38;5;129;01mis\u001b[39;00m \u001b[38;5;129;01mnot\u001b[39;00m \u001b[38;5;28;01mNone\u001b[39;00m \u001b[38;5;28;01melse\u001b[39;00m \u001b[38;5;28mcls\u001b[39m\u001b[38;5;241m.\u001b[39m_texcache,\n\u001b[0;32m    252\u001b[0m         stderr\u001b[38;5;241m=\u001b[39msubprocess\u001b[38;5;241m.\u001b[39mSTDOUT)\n\u001b[0;32m    253\u001b[0m \u001b[38;5;28;01mexcept\u001b[39;00m \u001b[38;5;167;01mFileNotFoundError\u001b[39;00m \u001b[38;5;28;01mas\u001b[39;00m exc:\n\u001b[1;32m--> 254\u001b[0m     \u001b[38;5;28;01mraise\u001b[39;00m \u001b[38;5;167;01mRuntimeError\u001b[39;00m(\n\u001b[0;32m    255\u001b[0m         \u001b[38;5;124mf\u001b[39m\u001b[38;5;124m'\u001b[39m\u001b[38;5;124mFailed to process string with tex because \u001b[39m\u001b[38;5;132;01m{\u001b[39;00mcommand[\u001b[38;5;241m0\u001b[39m]\u001b[38;5;132;01m}\u001b[39;00m\u001b[38;5;124m \u001b[39m\u001b[38;5;124m'\u001b[39m\n\u001b[0;32m    256\u001b[0m         \u001b[38;5;124m'\u001b[39m\u001b[38;5;124mcould not be found\u001b[39m\u001b[38;5;124m'\u001b[39m) \u001b[38;5;28;01mfrom\u001b[39;00m \u001b[38;5;21;01mexc\u001b[39;00m\n\u001b[0;32m    257\u001b[0m \u001b[38;5;28;01mexcept\u001b[39;00m subprocess\u001b[38;5;241m.\u001b[39mCalledProcessError \u001b[38;5;28;01mas\u001b[39;00m exc:\n\u001b[0;32m    258\u001b[0m     \u001b[38;5;28;01mraise\u001b[39;00m \u001b[38;5;167;01mRuntimeError\u001b[39;00m(\n\u001b[0;32m    259\u001b[0m         \u001b[38;5;124m'\u001b[39m\u001b[38;5;132;01m{prog}\u001b[39;00m\u001b[38;5;124m was not able to process the following string:\u001b[39m\u001b[38;5;130;01m\\n\u001b[39;00m\u001b[38;5;124m'\u001b[39m\n\u001b[0;32m    260\u001b[0m         \u001b[38;5;124m'\u001b[39m\u001b[38;5;132;01m{tex!r}\u001b[39;00m\u001b[38;5;130;01m\\n\u001b[39;00m\u001b[38;5;130;01m\\n\u001b[39;00m\u001b[38;5;124m'\u001b[39m\n\u001b[1;32m   (...)\u001b[0m\n\u001b[0;32m    267\u001b[0m             exc\u001b[38;5;241m=\u001b[39mexc\u001b[38;5;241m.\u001b[39moutput\u001b[38;5;241m.\u001b[39mdecode(\u001b[38;5;124m'\u001b[39m\u001b[38;5;124mutf-8\u001b[39m\u001b[38;5;124m'\u001b[39m, \u001b[38;5;124m'\u001b[39m\u001b[38;5;124mbackslashreplace\u001b[39m\u001b[38;5;124m'\u001b[39m))\n\u001b[0;32m    268\u001b[0m         ) \u001b[38;5;28;01mfrom\u001b[39;00m \u001b[38;5;28;01mNone\u001b[39;00m\n",
      "\u001b[1;31mRuntimeError\u001b[0m: Failed to process string with tex because latex could not be found"
     ]
    },
    {
     "data": {
      "text/plain": [
       "<Figure size 600x200 with 1 Axes>"
      ]
     },
     "metadata": {},
     "output_type": "display_data"
    }
   ],
   "source": [
    "import matplotlib\n",
    "matplotlib.rc('text',usetex=True)\n",
    "matplotlib.rc('text.latex', preamble=r'\\usepackage{color}')\n",
    "import matplotlib.pyplot as plt\n",
    "\n",
    "# Definir la expresión LaTeX con colores\n",
    "expression = r\"\\textcolor{red}{a} + \\textcolor{blue}{b} = \\textcolor{green}{c}\"\n",
    "# Crear una figura de Matplotlib\n",
    "plt.figure(figsize=(6, 2))\n",
    "\n",
    "# Añadir la expresión LaTeX a la figura\n",
    "plt.text(0.5, 0.5, f\"${expression}$\", fontsize=24, ha='center', va='center')\n",
    "\n",
    "# Ocultar los ejes\n",
    "plt.axis('off')\n",
    "\n",
    "# Mostrar la figura en pantalla\n",
    "plt.show()\n"
   ]
  },
  {
   "cell_type": "code",
   "execution_count": null,
   "id": "e4628d4c-16b4-49a2-9adf-04813dce6a65",
   "metadata": {},
   "outputs": [],
   "source": []
  },
  {
   "cell_type": "code",
   "execution_count": 6,
   "id": "1b330302-761b-468d-b61a-e73db734751a",
   "metadata": {},
   "outputs": [
    {
     "data": {
      "text/plain": [
       "(0.0, 1.0, 0.0, 1.0)"
      ]
     },
     "execution_count": 6,
     "metadata": {},
     "output_type": "execute_result"
    },
    {
     "data": {
      "image/png": "[encoded data removed]",
      "text/plain": [
       "<Figure size 100x100 with 1 Axes>"
      ]
     },
     "metadata": {},
     "output_type": "display_data"
    }
   ],
   "source": [
    "fontsize=20\n",
    "dpi=100\n",
    "expression=['a','b','c']\n",
    "colors=['red','black','blue']\n",
    "fig, ax = plt.subplots(figsize=(1, 1), dpi=dpi)\n",
    "xpos=0\n",
    "for ket,col in zip(expression,colors):\n",
    "    ax.text(xpos, 0, f\"${ket}$\",color=col, fontsize=fontsize, ha='left', va='center')\n",
    "    xpos+=10\n",
    "ax.axis('off')  # Oculta los ejes"
   ]
  },
  {
   "cell_type": "code",
   "execution_count": 25,
   "id": "4c0b547c-493a-4408-8054-d59cc3b8855c",
   "metadata": {},
   "outputs": [],
   "source": [
    "a=[[1,2],[3,4]]"
   ]
  },
  {
   "cell_type": "code",
   "execution_count": 29,
   "id": "2b804449-401d-4dbf-a1eb-2ca2dec3e9b0",
   "metadata": {},
   "outputs": [
    {
     "data": {
      "text/plain": [
       "False"
      ]
     },
     "execution_count": 29,
     "metadata": {},
     "output_type": "execute_result"
    }
   ],
   "source": [
    "[1] in a"
   ]
  },
  {
   "cell_type": "markdown",
   "id": "0081ca4d-7838-49f7-bd1b-920a041e68a8",
   "metadata": {},
   "source": [
    "# Menu test"
   ]
  },
  {
   "cell_type": "code",
   "execution_count": 4,
   "id": "c6d9470f-1238-4dcf-8afa-0ef44c5d5640",
   "metadata": {},
   "outputs": [
    {
     "name": "stdout",
     "output_type": "stream",
     "text": [
      "Selected Max Turns: (10, 0, 'O Starts')\n"
     ]
    }
   ],
   "source": [
    "import pygame\n",
    "import sys\n",
    "\n",
    "# Inicializar Pygame\n",
    "pygame.init()\n",
    "\n",
    "# Configuración de la pantalla\n",
    "WIDTH, HEIGHT = 800, 800\n",
    "WIN = pygame.display.set_mode((WIDTH,HEIGHT))\n",
    "pygame.display.set_caption(\"Max Turn Selector\")\n",
    "\n",
    "# Colores\n",
    "WHITE = (255, 255, 255)\n",
    "BLACK = (0, 0, 0)\n",
    "GRAY = (170, 170, 170)\n",
    "DARK_GRAY = (100, 100, 100)\n",
    "BLUE = (0, 0, 255)\n",
    "\n",
    "# Fuente\n",
    "FONT = pygame.font.Font(None, 74)\n",
    "SMALLFONT = pygame.font.Font(None, 50)\n",
    "\n",
    "# Clase para el deslizador\n",
    "class Slider:\n",
    "    def __init__(self, name, min_value, max_value, step, x, y, width, height):\n",
    "        self.name = name\n",
    "        self.min_value = min_value\n",
    "        self.max_value = max_value\n",
    "        self.step = step\n",
    "        self.x = x\n",
    "        self.y = y\n",
    "        self.width = width\n",
    "        self.height = height\n",
    "        self.handle_x = self.x  # Posición inicial del handle\n",
    "        self.value = min_value\n",
    "\n",
    "    def draw(self, screen):\n",
    "        # Dibujar la línea del deslizador\n",
    "        pygame.draw.line(screen, GRAY, (self.x, self.y), (self.x + self.width, self.y), 5)\n",
    "        \n",
    "        # Dibujar el \"handle\"\n",
    "        handle_center = (self.handle_x, self.y)\n",
    "        pygame.draw.circle(screen, BLUE, handle_center, 15)\n",
    "        \n",
    "        # Mostrar el valor seleccionado\n",
    "        value_text = SMALLFONT.render(f\"{self.name}: {self.value}\", True, BLACK)\n",
    "        screen.blit(value_text, (self.x + self.width // 2 - value_text.get_width() // 2, self.y + 50))\n",
    "\n",
    "    def handle_event(self, event):\n",
    "        if event.type == pygame.MOUSEBUTTONDOWN:\n",
    "            if self.is_over_handle(event.pos):\n",
    "                self.update_handle_position(event.pos)\n",
    "        elif event.type == pygame.MOUSEMOTION:\n",
    "            if pygame.mouse.get_pressed()[0]:  # Si el botón izquierdo del ratón está presionado\n",
    "                if self.is_over_handle(event.pos):\n",
    "                    self.update_handle_position(event.pos)\n",
    "\n",
    "    def is_over_handle(self, pos):\n",
    "        handle_rect = pygame.Rect(self.handle_x - 15, self.y - 15, 30, 30)\n",
    "        return handle_rect.collidepoint(pos)\n",
    "\n",
    "    def update_handle_position(self, pos):\n",
    "        new_x = max(self.x, min(pos[0], self.x + self.width))  # Limitar el movimiento del handle dentro del rango\n",
    "        self.handle_x = new_x\n",
    "        \n",
    "        # Calcular el valor basado en la posición del handle\n",
    "        relative_position = (self.handle_x - self.x) / self.width\n",
    "        steps = int(relative_position * ((self.max_value - self.min_value) // self.step))\n",
    "        self.value = self.min_value + steps * self.step\n",
    "        \n",
    "class Selector:\n",
    "    def __init__(self, x, y, width, height, options):\n",
    "        self.x = x\n",
    "        self.y = y\n",
    "        self.width = width//2\n",
    "        self.height = height\n",
    "        self.options = options\n",
    "        self.selected_option = options[0]  # Opción inicial\n",
    "        self.active_color = BLUE\n",
    "        self.inactive_color = DARK_GRAY\n",
    "\n",
    "    def draw(self, screen):\n",
    "        # Dibujar las opciones como botones\n",
    "        for index, option in enumerate(self.options):\n",
    "            button_rect = pygame.Rect(self.x + index * (self.width), self.y, self.width, self.height)\n",
    "            color = self.active_color if option == self.selected_option else self.inactive_color\n",
    "            pygame.draw.rect(screen, color, button_rect)\n",
    "            draw_text(option, SMALLFONT, WHITE, screen, button_rect.centerx, button_rect.centery)\n",
    "\n",
    "    def handle_event(self, event):\n",
    "        if event.type == pygame.MOUSEBUTTONDOWN:\n",
    "            for index, option in enumerate(self.options):\n",
    "                button_rect = pygame.Rect(self.x + index * (self.width + 20), self.y, self.width, self.height)\n",
    "                if button_rect.collidepoint(event.pos):\n",
    "                    self.selected_option = option\n",
    "def slider_menu():\n",
    "    slider1 = Slider('Number of turns',min_value=10, max_value=30, step=2, x=WIDTH//2 - WIDTH//4, y=100, width=WIDTH//2, height=30)\n",
    "    slider2 = Slider('Cell freezing time (turns)',min_value=0, max_value=8, step=1, x=WIDTH//2 - WIDTH//4, y=300, width=WIDTH//2, height=30)\n",
    "    category_selector = Selector(x=WIDTH//2 - WIDTH//4, y=500, width=WIDTH//2, height=50, options=[\"X Starts\", \"O Starts\"])\n",
    "    \n",
    "    while True:\n",
    "        WIN.fill(WHITE)\n",
    "        slider1.draw(WIN)\n",
    "        slider2.draw(WIN)\n",
    "        category_selector.draw(WIN)\n",
    "        for event in pygame.event.get():\n",
    "            if event.type == pygame.QUIT:\n",
    "                pygame.quit()\n",
    "                sys.exit()\n",
    "            slider1.handle_event(event)\n",
    "            slider2.handle_event(event)\n",
    "            category_selector.handle_event(event)\n",
    "            \n",
    "        # Mostrar botón de confirmación\n",
    "        mouse_pos = pygame.mouse.get_pos()\n",
    "        click = pygame.mouse.get_pressed()\n",
    "        \n",
    "        confirm_button = pygame.Rect(WIDTH // 2 - 75, HEIGHT - 100, 150, 50)\n",
    "        pygame.draw.rect(WIN, DARK_GRAY, confirm_button)\n",
    "        draw_text(\"Confirm\", SMALLFONT, WHITE, WIN, confirm_button.centerx, confirm_button.centery)\n",
    "        \n",
    "        if confirm_button.collidepoint(mouse_pos) and click[0]:\n",
    "            return slider1.value, slider2.value, category_selector.selected_option  # Regresar el valor seleccionado cuando se presiona el botón de confirmación\n",
    "        \n",
    "        pygame.display.update()\n",
    "\n",
    "def draw_text(text, font, color, surface, x, y):\n",
    "    textobj = font.render(text, True, color)\n",
    "    textrect = textobj.get_rect()\n",
    "    textrect.center = (x, y)\n",
    "    surface.blit(textobj, textrect)\n",
    "\n",
    "def main():\n",
    "    max_turns = slider_menu()\n",
    "    print(f\"Selected Max Turns: {max_turns}\")\n",
    "    # Aquí podrías llamar a la lógica del juego con el número máximo de turnos seleccionado\n",
    "main()"
   ]
  },
  {
   "cell_type": "markdown",
   "id": "7903c36d-17e7-4766-b2d9-fe89308068d8",
   "metadata": {},
   "source": [
    "# Full grid check test (for hardcore gamemode)"
   ]
  },
  {
   "cell_type": "code",
   "execution_count": 14,
   "id": "b7de854c-bb6b-4352-a9ee-1dab8e84bde0",
   "metadata": {},
   "outputs": [],
   "source": [
    "a=set(((0,0),(0,1),(0,2),(1,0),(1,1),(1,2),(2,0),(2,1),(2,2)))\n",
    "b=set(((0,2),(0,1),(2,2),(1,2),(1,1),(1,2),(0,2),(1,1),(2,2)))\n",
    "c=set(((1,0),(1,2),(1,1),(0,0),(0,1),(0,2),(2,0),(2,1),(2,2)))"
   ]
  },
  {
   "cell_type": "code",
   "execution_count": 12,
   "id": "420cd34f-8af7-4c68-b027-36a4b2ed64ee",
   "metadata": {},
   "outputs": [
    {
     "data": {
      "text/plain": [
       "True"
      ]
     },
     "execution_count": 12,
     "metadata": {},
     "output_type": "execute_result"
    }
   ],
   "source": [
    "a == c"
   ]
  },
  {
   "cell_type": "code",
   "execution_count": 15,
   "id": "c1b044e2-8c90-4d5e-bf99-6733c1cfc6e2",
   "metadata": {},
   "outputs": [
    {
     "data": {
      "text/plain": [
       "{(0, 0), (0, 1), (0, 2), (1, 0), (1, 1), (1, 2), (2, 0), (2, 1), (2, 2)}"
      ]
     },
     "execution_count": 15,
     "metadata": {},
     "output_type": "execute_result"
    }
   ],
   "source": [
    "c"
   ]
  },
  {
   "cell_type": "code",
   "execution_count": 16,
   "id": "ab9ddf24-6750-46b6-9dc8-2beb12c4b366",
   "metadata": {},
   "outputs": [
    {
     "data": {
      "text/plain": [
       "{(0, 0), (0, 1), (0, 2), (1, 0), (1, 1), (1, 2), (2, 0), (2, 1), (2, 2)}"
      ]
     },
     "execution_count": 16,
     "metadata": {},
     "output_type": "execute_result"
    }
   ],
   "source": [
    "set(((1,0),(1,2),(1,1),(0,0),(0,1),(0,2),(2,0),(2,1),(2,2)))"
   ]
  },
  {
   "cell_type": "code",
   "execution_count": null,
   "id": "3553a434-f3ee-46b2-b9df-d5076d9543c0",
   "metadata": {},
   "outputs": [],
   "source": []
  }
 ],
 "metadata": {
  "kernelspec": {
   "display_name": "Python 3 (ipykernel)",
   "language": "python",
   "name": "python3"
  },
  "language_info": {
   "codemirror_mode": {
    "name": "ipython",
    "version": 3
   },
   "file_extension": ".py",
   "mimetype": "text/x-python",
   "name": "python",
   "nbconvert_exporter": "python",
   "pygments_lexer": "ipython3",
   "version": "3.11.9"
  }
 },
 "nbformat": 4,
 "nbformat_minor": 5
}
